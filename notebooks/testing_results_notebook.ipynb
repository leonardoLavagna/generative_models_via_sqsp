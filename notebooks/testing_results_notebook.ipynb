{
 "cells": [
  {
   "cell_type": "code",
   "execution_count": 5,
   "id": "acb26d3a-29f4-4c40-88d1-d17e53235f6a",
   "metadata": {},
   "outputs": [],
   "source": [
    "from utilities.grover_state_preparation import *\n",
    "from utilities.auxiliaries import *\n",
    "from config import *\n",
    "     \n",
    "import numpy as np\n",
    "import pandas as pd\n",
    "from scipy.stats import beta, wasserstein_distance\n",
    "from scipy.optimize import minimize\n",
    "import matplotlib.pyplot as plt\n",
    "from qiskit import transpile\n",
    "from itertools import combinations\n",
    "import warnings\n",
    "warnings.filterwarnings('ignore')"
   ]
  },
  {
   "cell_type": "code",
   "execution_count": 6,
   "id": "664988e8-ef1f-4274-9a98-e927f975fbde",
   "metadata": {},
   "outputs": [],
   "source": [
    "p_i_set = beta.pdf(np.linspace(a, b, 2**m), alpha_, beta_) \n",
    "p_i_set /= p_i_set.sum()\n",
    "n_angles = len(get_grover_angles(p_i_set, m))"
   ]
  },
  {
   "cell_type": "code",
   "execution_count": 7,
   "id": "3e8d9369-a4a6-46d8-a2fd-b760b8828c42",
   "metadata": {},
   "outputs": [],
   "source": [
    "results = pd.DataFrame(columns=[\"trainable angles\", \"best loss\", \"Earth Mover's Distance\"])"
   ]
  },
  {
   "cell_type": "code",
   "execution_count": 8,
   "id": "fe3e35f0-a3e5-4ece-93a3-070660579cbf",
   "metadata": {},
   "outputs": [],
   "source": [
    "for k in range(1, n_angles + 1):  \n",
    "    for idx_thetas_to_optimize in combinations(range(n_angles), k):\n",
    "        idx_thetas_to_optimize = list(idx_thetas_to_optimize)\n",
    "\n",
    "        thetas_to_optimize = np.array(generate_parameters(len(idx_thetas_to_optimize), k=2))\n",
    "        thetas = get_grover_angles(p_i_set, m)\n",
    "\n",
    "        print(f\"\\nTesting configuration: {idx_thetas_to_optimize}\")  \n",
    "\n",
    "        best_loss = float('inf')\n",
    "        best_thetas = None\n",
    "\n",
    "        for run in range(runs):\n",
    "            result = minimize(objective_function, thetas_to_optimize,\n",
    "                              args=(idx_thetas_to_optimize, thetas, p_i_set, shots),\n",
    "                              method=optimizer_type, options={\"disp\": False, \"maxiter\": max_iterations})\n",
    "            \n",
    "            current_loss = result.fun\n",
    "            thetas_to_optimize = result.x\n",
    "            \n",
    "            if current_loss < best_loss:\n",
    "                best_loss = current_loss\n",
    "                best_thetas = np.array(thetas.copy())\n",
    "                best_thetas[idx_thetas_to_optimize] = thetas_to_optimize \n",
    "        \n",
    "        final_qc  = state_expansion(m, best_thetas)\n",
    "        t_qc = transpile(final_qc, backend=backend)\n",
    "        job = backend.run(t_qc, shots=shots)\n",
    "        counts = job.result().get_counts(final_qc)\n",
    "        samples = np.array([counts.get(state, 0) for state in all_states], dtype=float)\n",
    "        samples /= samples.sum()\n",
    "\n",
    "        \n",
    "        emd = wasserstein_distance(samples, p_i_set)\n",
    "\n",
    "        \n",
    "        print(f\"Configuration {idx_thetas_to_optimize} -> Best Loss: {best_loss:.10f}, EMD: {emd:.10f}\")\n",
    "\n",
    "\n",
    "        \n",
    "\n",
    "        new_row = pd.DataFrame([{\n",
    "            \"trainable angles\": str(idx_thetas_to_optimize),\n",
    "            \"best loss\": best_loss,\n",
    "            \"Earth Mover's Distance\": emd\n",
    "        }])\n",
    "        results = pd.concat([results, new_row], ignore_index=True)"
   ]
  },
  {
   "cell_type": "code",
   "execution_count": null,
   "id": "29b75eb6-82b0-47fd-be7e-53b5b9e460d7",
   "metadata": {},
   "outputs": [],
   "source": [
    "saving_folder = r\"...\" #change this according to your prefered saving folder\n",
    "excel_filename = os.path.join(saving_folder, \"testing_m3.xlsx\") #change this according to your prefered file saving name\n",
    "results.to_excel(excel_filename, index=False)\n",
    "print(f\"\\nResults saved at: '{excel_filename}'\")"
   ]
  }
 ],
 "metadata": {
  "kernelspec": {
   "display_name": "Python 3 (ipykernel)",
   "language": "python",
   "name": "python3"
  },
  "language_info": {
   "codemirror_mode": {
    "name": "ipython",
    "version": 3
   },
   "file_extension": ".py",
   "mimetype": "text/x-python",
   "name": "python",
   "nbconvert_exporter": "python",
   "pygments_lexer": "ipython3",
   "version": "3.12.8"
  }
 },
 "nbformat": 4,
 "nbformat_minor": 5
}
