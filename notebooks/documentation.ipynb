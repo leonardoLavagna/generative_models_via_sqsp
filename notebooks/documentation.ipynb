{
  "nbformat": 4,
  "nbformat_minor": 0,
  "metadata": {
    "colab": {
      "provenance": []
    },
    "kernelspec": {
      "name": "python3",
      "display_name": "Python 3"
    },
    "language_info": {
      "name": "python"
    }
  },
  "cells": [
    {
      "cell_type": "markdown",
      "source": [
        "# notebooks.documentation\n",
        "```\n",
        "generative_models_via_sqsp\n",
        "    |\n",
        "    |_ utilities\n",
        "        |\n",
        "        |_ compiler.py\n",
        "        |\n",
        "        |_ grover_state_preparation.py\n",
        "        |\n",
        "        |_ kernels.py\n",
        "        |\n",
        "        |_ qcbm.py  \n",
        "        |\n",
        "        |_ quantum_gates.py    \n",
        "        |\n",
        "        |_ sampling.py\n",
        "    |\n",
        "    .\n",
        "    .\n",
        "    .  \n",
        "  ```"
      ],
      "metadata": {
        "id": "9TmBPauDDC_k"
      }
    },
    {
      "cell_type": "code",
      "source": [
        "import os\n",
        "os.chdir('generative_models_via_sqsp/utilities')"
      ],
      "metadata": {
        "id": "tGKh9kotDvM2"
      },
      "execution_count": 1,
      "outputs": []
    },
    {
      "cell_type": "code",
      "source": [
        "import numpy as np\n",
        "import scipy.sparse as sps"
      ],
      "metadata": {
        "id": "XbtTUzSSD2ME"
      },
      "execution_count": 2,
      "outputs": []
    },
    {
      "cell_type": "markdown",
      "source": [
        "## compiler"
      ],
      "metadata": {
        "id": "C8U1MI7EGRne"
      }
    },
    {
      "cell_type": "markdown",
      "source": [
        "### `compiler(ops, locs, n)`"
      ],
      "metadata": {
        "id": "nVG3BEeXHj3t"
      }
    },
    {
      "cell_type": "markdown",
      "source": [
        "Compiles operators into a specific Hilbert space.\n",
        "\n",
        "**Args**\n",
        "- `ops` (list or tuple): A list or tuple of operators to be applied to the system.\n",
        "- `locs` (list or tuple): The qubit locations on which the operators will act.\n",
        "- `n` (int): The total number of qubits in the quantum system.\n",
        "\n",
        "**Returns**\n",
        "- `scipy.sparse.csr_matrix`: The resulting sparse matrix after applying all operators."
      ],
      "metadata": {
        "id": "6hRdkj_PJSvn"
      }
    },
    {
      "cell_type": "code",
      "source": [
        "from quantum_gates import sz, sx\n",
        "from compiler import compiler\n",
        "\n",
        "locs = [0, 1]\n",
        "n = 2\n",
        "result = compiler([sx, sz], locs, n)\n",
        "print(result.todense())"
      ],
      "metadata": {
        "colab": {
          "base_uri": "https://localhost:8080/"
        },
        "id": "1SUOv0uJ2cgM",
        "outputId": "873df32c-25b1-4108-aea5-c88af815bf05"
      },
      "execution_count": 3,
      "outputs": [
        {
          "output_type": "stream",
          "name": "stdout",
          "text": [
            "[[ 0.+0.j  1.+0.j  0.+0.j  0.+0.j]\n",
            " [ 1.+0.j  0.+0.j  0.+0.j  0.+0.j]\n",
            " [ 0.+0.j  0.+0.j  0.+0.j -1.+0.j]\n",
            " [ 0.+0.j  0.+0.j -1.+0.j  0.+0.j]]\n"
          ]
        }
      ]
    },
    {
      "cell_type": "markdown",
      "source": [
        "### `_wrap_identity(data_list, num_bit_list)`"
      ],
      "metadata": {
        "id": "xVf49aW3IGFF"
      }
    },
    {
      "cell_type": "markdown",
      "source": [
        "Helper function to apply identity operators to the Hilbert space.\n",
        "\n",
        "**Args:**\n",
        "- `data_list` (list): A list of operators to be applied to the quantum system.\n",
        "- `num_bit_list` (list): A list containing the number of qubits on which each operator acts.\n",
        "\n",
        "**Returns:**\n",
        "- `scipy.sparse.csr_matrix`: The resulting sparse matrix after applying the operators.\n",
        "\n",
        "**Raises:**\n",
        "- `Exception`: If the length of `num_bit_list` is inconsistent with the number of operators.\n"
      ],
      "metadata": {
        "id": "YVTsBVqAJVse"
      }
    },
    {
      "cell_type": "code",
      "source": [],
      "metadata": {
        "id": "dZkflZOqIJoq"
      },
      "execution_count": 3,
      "outputs": []
    },
    {
      "cell_type": "markdown",
      "source": [
        "### `initial_wf(num_bit)`\n"
      ],
      "metadata": {
        "id": "sHM5TmYbIJ9Z"
      }
    },
    {
      "cell_type": "markdown",
      "source": [
        "Generates the initial wave function |00...0> for a quantum system.\n",
        "\n",
        "**Args:**\n",
        "- `num_bit` (int): The number of qubits in the system.\n",
        "\n",
        "**Returns:**\n",
        "- `np.ndarray`: The initial wave function as a numpy array.\n",
        "\n",
        "**Remarks:**\n",
        "- The function returns the state vector |00...0>, which represents the quantum system being initialized to the ground state (all qubits in state |0>)."
      ],
      "metadata": {
        "id": "63cUZO-RJX5D"
      }
    },
    {
      "cell_type": "code",
      "source": [],
      "metadata": {
        "id": "xRTjmXeKIKtR"
      },
      "execution_count": 3,
      "outputs": []
    },
    {
      "cell_type": "markdown",
      "source": [
        "## grover_state_preparation"
      ],
      "metadata": {
        "id": "84uRLvdAIYw8"
      }
    },
    {
      "cell_type": "markdown",
      "source": [
        "### `get_grover_angles(p_i_set, m)`\n"
      ],
      "metadata": {
        "id": "PNEYwYhNIhnN"
      }
    },
    {
      "cell_type": "markdown",
      "source": [
        "Calculates Grover's angles for a given set of probabilities.\n",
        "\n",
        "**Args:**\n",
        "- `p_i_set` (list or array-like): A list of probabilities corresponding to quantum states.\n",
        "- `m` (int): The number of qubits used in the quantum circuit.\n",
        "\n",
        "**Returns:**\n",
        "- `list`: A list of rotation angles required for Grover's state preparation.\n",
        "\n",
        "**Raises:**\n",
        "- `ValueError`: If the computed number of angles does not match the required length for `m` qubits."
      ],
      "metadata": {
        "id": "0Xatl6tqJix7"
      }
    },
    {
      "cell_type": "code",
      "source": [],
      "metadata": {
        "id": "M8b1cptRIa16"
      },
      "execution_count": 3,
      "outputs": []
    },
    {
      "cell_type": "markdown",
      "source": [
        "### `state_expansion(m, thetas)`"
      ],
      "metadata": {
        "id": "Znc4ukHCIlZF"
      }
    },
    {
      "cell_type": "markdown",
      "source": [
        "Constructs a quantum circuit that applies rotations based on the calculated angles.\n",
        "\n",
        "**Args:**\n",
        "- `m` (int): The number of qubits in the circuit.\n",
        "- `thetas` (list): A list of rotation angles computed for Grover's algorithm.\n",
        "\n",
        "**Returns:**\n",
        "- `QuantumCircuit`: A quantum circuit implementing the state preparation.\n",
        "\n",
        "**Raises:**\n",
        "- `ValueError`: If the number of angles does not match the required `2^m - 1`."
      ],
      "metadata": {
        "id": "q7rYIkRuJl3B"
      }
    },
    {
      "cell_type": "code",
      "source": [],
      "metadata": {
        "id": "wEpud4xSIl1w"
      },
      "execution_count": 3,
      "outputs": []
    },
    {
      "cell_type": "markdown",
      "source": [
        "## kernels"
      ],
      "metadata": {
        "id": "qJORuXwTGWV6"
      }
    },
    {
      "cell_type": "markdown",
      "source": [
        "### `mix_rbf_kernel(x, y, sigma_list)`"
      ],
      "metadata": {
        "id": "c6e4BX6_IvbR"
      }
    },
    {
      "cell_type": "markdown",
      "source": [
        "Computes a mixture of RBF kernels between two datasets.\n",
        "\n",
        "**Args:**\n",
        "- `x` (numpy.ndarray): Dataset `x`, shape `(n_samples_x, n_features)`.\n",
        "- `y` (numpy.ndarray): Dataset `y`, shape `(n_samples_y, n_features)`.\n",
        "- `sigma_list` (list or np.ndarray): List of sigma values for the RBF kernels.\n",
        "\n",
        "**Returns:**\n",
        "- `numpy.ndarray`: The kernel matrix computed between `x` and `y`.\n",
        "\n",
        "**Raises:**\n",
        "- `ValueError`: If any sigma values are non-positive."
      ],
      "metadata": {
        "id": "ilxtB5SGJb6_"
      }
    },
    {
      "cell_type": "code",
      "source": [],
      "metadata": {
        "id": "VmnAUpvuIyUW"
      },
      "execution_count": 3,
      "outputs": []
    },
    {
      "cell_type": "markdown",
      "source": [
        "### `RBFMMD2` class\n"
      ],
      "metadata": {
        "id": "qplSbGFkIyvK"
      }
    },
    {
      "cell_type": "markdown",
      "source": [
        "Computes the squared Maximum Mean Discrepancy (MMD) using an RBF kernel.\n",
        "\n",
        "**Methods**\n",
        "- `__init__(sigma_list)`\n",
        "Initializes the RBFMMD2 object with a list of sigma values.\n",
        "- `compute(x, y)`\n",
        "Computes the squared MMD between two datasets."
      ],
      "metadata": {
        "id": "8JeTyOwAJeke"
      }
    },
    {
      "cell_type": "code",
      "source": [
        "from kernels import RBFMMD2\n",
        "\n",
        "x = np.array([[1], [2], [3]])\n",
        "y = np.array([[1], [2], [3]])\n",
        "sigma_list = [1.0]\n",
        "rbfmmd = RBFMMD2(sigma_list)\n",
        "mmd_value = rbfmmd.compute(x, y)\n",
        "print(f\"Squared MMD value: {mmd_value}\")"
      ],
      "metadata": {
        "colab": {
          "base_uri": "https://localhost:8080/"
        },
        "id": "Jd3GXHmpArne",
        "outputId": "ea946e98-f38d-4aab-e135-3f95b52e60c8"
      },
      "execution_count": 4,
      "outputs": [
        {
          "output_type": "stream",
          "name": "stdout",
          "text": [
            "Squared MMD value: [[0. 0. 0.]\n",
            " [0. 0. 0.]\n",
            " [0. 0. 0.]]\n"
          ]
        }
      ]
    },
    {
      "cell_type": "markdown",
      "source": [
        "## qcbm"
      ],
      "metadata": {
        "id": "A64rWKf2GT2B"
      }
    },
    {
      "cell_type": "markdown",
      "source": [
        "### `ArbitraryRotation` class"
      ],
      "metadata": {
        "id": "KVbzFbMuKaZ9"
      }
    },
    {
      "cell_type": "markdown",
      "source": [
        "Represents a quantum gate that applies arbitrary rotations to qubits in the quantum circuit. It can apply three rotations per qubit, represented by a list of rotation angles.\n",
        "\n",
        "**Methods**\n",
        "- `__init__(self, num_bit)`: Initializes the ArbitraryRotation instance with the specified number of qubits.\n",
        "- `num_param`: Property that returns the number of parameters for the rotations (3 parameters per qubit).\n",
        "- `toscr(self, theta_list)`: Transforms this block into a sequence of sparse CSR matrices based on the provided list of rotation angles."
      ],
      "metadata": {
        "id": "nLGJjPfXKcVh"
      }
    },
    {
      "cell_type": "code",
      "source": [
        "from qcbm import ArbitraryRotation\n",
        "\n",
        "num_bit = 2\n",
        "rotation_gate = ArbitraryRotation(num_bit)\n",
        "print(f\"Number of parameters in ArbitraryRotation: {rotation_gate.num_param}\")\n",
        "theta_list = np.random.rand(6)\n",
        "csr_matrices = rotation_gate.tocsr(theta_list)\n",
        "for i, mat in enumerate(csr_matrices):\n",
        "    print(f\"CSR matrix {i} for rotation:\")\n",
        "    print(mat.toarray())"
      ],
      "metadata": {
        "colab": {
          "base_uri": "https://localhost:8080/"
        },
        "id": "S-iVPYrC2mVv",
        "outputId": "d768403c-1071-42a5-9abd-8138d05f5496"
      },
      "execution_count": 5,
      "outputs": [
        {
          "output_type": "stream",
          "name": "stdout",
          "text": [
            "Number of parameters in ArbitraryRotation: 6\n",
            "CSR matrix 0 for rotation:\n",
            "[[ 0.93506409-0.33137603j -0.00388852-0.12581717j  0.        +0.j\n",
            "   0.        +0.j        ]\n",
            " [ 0.00388852-0.12581717j  0.93506409+0.33137603j  0.        +0.j\n",
            "   0.        +0.j        ]\n",
            " [ 0.        +0.j          0.        +0.j          0.93506409-0.33137603j\n",
            "  -0.00388852-0.12581717j]\n",
            " [ 0.        +0.j          0.        +0.j          0.00388852-0.12581717j\n",
            "   0.93506409+0.33137603j]]\n",
            "CSR matrix 1 for rotation:\n",
            "[[ 0.86845199-0.48563817j  0.        +0.j          0.02881078-0.0954812j\n",
            "   0.        +0.j        ]\n",
            " [ 0.        +0.j          0.86845199-0.48563817j  0.        +0.j\n",
            "   0.02881078-0.0954812j ]\n",
            " [-0.02881078-0.0954812j   0.        +0.j          0.86845199+0.48563817j\n",
            "   0.        +0.j        ]\n",
            " [ 0.        +0.j         -0.02881078-0.0954812j   0.        +0.j\n",
            "   0.86845199+0.48563817j]]\n"
          ]
        }
      ]
    },
    {
      "cell_type": "markdown",
      "source": [
        "### `CNOTEntangler` class"
      ],
      "metadata": {
        "id": "vMmCRaAYKAfc"
      }
    },
    {
      "cell_type": "markdown",
      "source": [
        "Applies a series of CNOT gates that entangle pairs of qubits. The entanglement is formed by applying a CNOT gate for each pair in the provided list.\n",
        "\n",
        "**Methods**\n",
        "- `__init__(self, num_bit, pairs)`: Initializes the CNOTEntangler instance with the number of qubits and the pairs for entangling.\n",
        "  \n",
        "- `num_param`: Property that returns the number of parameters (CNOT gates do not have parameters).\n",
        "\n",
        "- `toscr(self, theta_list)`: Transforms this block into a sequence of sparse CSR matrices by applying CNOT gates to the specified qubit pairs."
      ],
      "metadata": {
        "id": "PN1nFCq6Kees"
      }
    },
    {
      "cell_type": "code",
      "source": [
        "from qcbm import CNOTEntangler\n",
        "\n",
        "num_bit = 2\n",
        "pairs = [(0, 1)]\n",
        "cnot_entangler = CNOTEntangler(num_bit, pairs)\n",
        "print(f\"Number of parameters in CNOTEntangler: {cnot_entangler.num_param}\")\n",
        "theta_list = np.array([])\n",
        "csr_matrices = cnot_entangler.tocsr(theta_list)\n",
        "print(\"CNOTEntangler CSR matrix:\")\n",
        "print(csr_matrices[0].toarray())\n"
      ],
      "metadata": {
        "colab": {
          "base_uri": "https://localhost:8080/"
        },
        "id": "iuK9woOo6jtP",
        "outputId": "6f3696d8-2469-4ec3-e95b-ad2450f4af1c"
      },
      "execution_count": 6,
      "outputs": [
        {
          "output_type": "stream",
          "name": "stdout",
          "text": [
            "Number of parameters in CNOTEntangler: 0\n",
            "CNOTEntangler CSR matrix:\n",
            "[[1.+0.j 0.+0.j 0.+0.j 0.+0.j]\n",
            " [0.+0.j 0.+0.j 0.+0.j 1.+0.j]\n",
            " [0.+0.j 0.+0.j 1.+0.j 0.+0.j]\n",
            " [0.+0.j 1.+0.j 0.+0.j 0.+0.j]]\n"
          ]
        }
      ]
    },
    {
      "cell_type": "markdown",
      "source": [
        "### `BlockQueue` class\n"
      ],
      "metadata": {
        "id": "K2G1V2ZRKJxb"
      }
    },
    {
      "cell_type": "markdown",
      "source": [
        "Keeps track of the quantum circuit's evolution by managing blocks of operations and applying them to a quantum register while efficiently tracking the parameter changes.\n",
        "\n",
        "**Methods**\n",
        "\n",
        "- `__init__(self, *args)`: Initializes a BlockQueue instance with a sequence of quantum operations (blocks).\n",
        "  \n",
        "- `__call__(self, qureg, theta_list)`: Applies operations to the quantum register in place using the provided list of parameters.\n",
        "\n",
        "- `num_bit`: Property that returns the number of qubits in the quantum circuit.\n",
        "\n",
        "- `num_param`: Property that returns the total number of parameters across all blocks."
      ],
      "metadata": {
        "id": "DqQwJXtWKiU1"
      }
    },
    {
      "cell_type": "code",
      "source": [
        "from qcbm import BlockQueue\n",
        "\n",
        "num_bit = 2\n",
        "pairs = [(0, 1)]\n",
        "blocks = [ArbitraryRotation(num_bit), CNOTEntangler(num_bit, pairs)]\n",
        "block_queue = BlockQueue(blocks)\n",
        "print(f\"Number of qubits: {block_queue.num_bit}\")\n",
        "print(f\"Total number of parameters in BlockQueue: {block_queue.num_param}\")\n",
        "qureg = np.zeros(2**num_bit, dtype='complex128')\n",
        "qureg[0] = 1.0\n",
        "theta_list = np.random.rand(block_queue.num_param)\n",
        "block_queue(qureg, theta_list)\n",
        "print(\"Updated quantum register (wavefunction):\")\n",
        "print(qureg)"
      ],
      "metadata": {
        "colab": {
          "base_uri": "https://localhost:8080/"
        },
        "id": "Vq88eedM7qtC",
        "outputId": "4cd4e5b9-bf04-4b44-dce5-da528a834be1"
      },
      "execution_count": 7,
      "outputs": [
        {
          "output_type": "stream",
          "name": "stdout",
          "text": [
            "Number of qubits: 2\n",
            "Total number of parameters in BlockQueue: 6\n",
            "Updated quantum register (wavefunction):\n",
            "[ 0.2659137 -0.86411532j -0.03074796-0.00140767j -0.21693033-0.36086013j\n",
            " -0.04182868-0.05117384j]\n"
          ]
        }
      ]
    },
    {
      "cell_type": "markdown",
      "source": [
        "### `QCBM` class\n"
      ],
      "metadata": {
        "id": "ewJJbK3JKNEj"
      }
    },
    {
      "cell_type": "markdown",
      "source": [
        "The Quantum Circuit Born Machine framework that learns to approximate probability distributions using quantum circuits. The model uses rotation gates and CNOT entanglers, and the optimization is performed using the MMD loss function.\n",
        "\n",
        "**Methods**\n",
        "- `__init__(self, circuit, mmd, p_data, batch_size=None)`: Initializes the QCBM instance with the specified quantum circuit, MMD metric, target probability distribution, and batch size (optional).\n",
        "\n",
        "- `depth`: Property that returns the depth of the circuit, defined by the number of entanglers.\n",
        "\n",
        "- `pdf(self, theta_list)`: Gets the probability distribution function by applying the quantum circuit to the quantum state.\n",
        "\n",
        "- `mmd_loss(self, theta_list)`: Computes the MMD loss for the given parameters.\n",
        "\n",
        "- `gradient(self, theta_list)`: Computes the gradient of the MMD loss with respect to the parameters using numerical gradient computation."
      ],
      "metadata": {
        "id": "qlmEpvLwKm8K"
      }
    },
    {
      "cell_type": "code",
      "source": [
        "from qcbm import ArbitraryRotation, CNOTEntangler, BlockQueue, QCBM\n",
        "\n",
        "def dummy_mmd(prob1, prob2):\n",
        "    return np.mean((prob1 - prob2) ** 2)\n",
        "\n",
        "blocks = [ArbitraryRotation(num_bit), CNOTEntangler(num_bit, pairs)]\n",
        "block_queue = BlockQueue(blocks)\n",
        "p_data = np.random.rand(2**num_bit)\n",
        "p_data /= p_data.sum()\n",
        "qcbm = QCBM(circuit=block_queue, mmd=dummy_mmd, p_data=p_data)\n",
        "theta_list = np.random.rand(block_queue.num_param)\n",
        "prob_distribution = qcbm.pdf(theta_list)\n",
        "print(\"Computed probability distribution:\")\n",
        "print(prob_distribution)"
      ],
      "metadata": {
        "colab": {
          "base_uri": "https://localhost:8080/"
        },
        "id": "_Xstib7L73mh",
        "outputId": "491287cd-9f2b-47d7-9ed9-40c3c59989c0"
      },
      "execution_count": 8,
      "outputs": [
        {
          "output_type": "stream",
          "name": "stdout",
          "text": [
            "Computed probability distribution:\n",
            "[0.84623881 0.0032512  0.12921815 0.02129184]\n"
          ]
        }
      ]
    },
    {
      "cell_type": "markdown",
      "source": [
        "## quantum_gates\n"
      ],
      "metadata": {
        "id": "X5_tb7hTGMxh"
      }
    },
    {
      "cell_type": "code",
      "source": [
        "from quantum_gates import _ri, sz\n",
        "\n",
        "theta = np.pi / 4\n",
        "rotation_sz = _ri(sz, theta)\n",
        "print(rotation_sz.todense())"
      ],
      "metadata": {
        "colab": {
          "base_uri": "https://localhost:8080/"
        },
        "id": "gQodVQ5Y0R2c",
        "outputId": "fd8e4f80-4ac1-45cf-e0ea-8fd7a1dbe63f"
      },
      "execution_count": 9,
      "outputs": [
        {
          "output_type": "stream",
          "name": "stdout",
          "text": [
            "[[0.92387953-0.38268343j 0.        +0.j        ]\n",
            " [0.        +0.j         0.92387953+0.38268343j]]\n"
          ]
        }
      ]
    },
    {
      "cell_type": "code",
      "source": [
        "from quantum_gates import rot\n",
        "\n",
        "t1, t2, t3 = np.pi/4, np.pi/4, np.pi/4\n",
        "full_rotation = rot(t1, t2, t3)\n",
        "print(full_rotation.todense())"
      ],
      "metadata": {
        "colab": {
          "base_uri": "https://localhost:8080/"
        },
        "id": "NlTDreXP0mMS",
        "outputId": "c37a5d23-2ceb-4416-f62b-95e2b483814b"
      },
      "execution_count": 10,
      "outputs": [
        {
          "output_type": "stream",
          "name": "stdout",
          "text": [
            "[[0.65328148-0.65328148j 0.        -0.38268343j]\n",
            " [0.        -0.38268343j 0.65328148+0.65328148j]]\n"
          ]
        }
      ]
    },
    {
      "cell_type": "code",
      "source": [
        "from quantum_gates import CNOT\n",
        "\n",
        "ibit = 0\n",
        "jbit = 1\n",
        "n = 2\n",
        "cnot_result = CNOT(ibit, jbit, n)\n",
        "print(cnot_result.todense())"
      ],
      "metadata": {
        "colab": {
          "base_uri": "https://localhost:8080/"
        },
        "id": "rO2K9DXN0xGJ",
        "outputId": "240ec0e3-88d6-46d5-abb9-3f50ad3dffb2"
      },
      "execution_count": 11,
      "outputs": [
        {
          "output_type": "stream",
          "name": "stdout",
          "text": [
            "[[1.+0.j 0.+0.j 0.+0.j 0.+0.j]\n",
            " [0.+0.j 0.+0.j 0.+0.j 1.+0.j]\n",
            " [0.+0.j 0.+0.j 1.+0.j 0.+0.j]\n",
            " [0.+0.j 1.+0.j 0.+0.j 0.+0.j]]\n"
          ]
        }
      ]
    },
    {
      "cell_type": "markdown",
      "source": [
        "## sampling"
      ],
      "metadata": {
        "id": "UZ7lHTk1GYLK"
      }
    },
    {
      "cell_type": "markdown",
      "source": [
        "### `sample_from_prob` function"
      ],
      "metadata": {
        "id": "gZCRVxKQLBNi"
      }
    },
    {
      "cell_type": "markdown",
      "source": [
        "Samples `num_sample` elements from the dataset `x` based on the given probability distribution `pl`. The probabilities are normalized to ensure they sum to 1 before sampling. It returns the sampled elements from `x`.\n",
        "\n",
        "**Args**\n",
        "- `x` (numpy.ndarray): Dataset `x` from which to sample, shape `(n_samples, n_features)`.\n",
        "- `pl` (numpy.ndarray): Probability distribution over the dataset `x`, shape `(n_samples,)`.\n",
        "- `num_sample` (int): The number of samples to draw.\n",
        "\n",
        "**Returns**\n",
        "- `numpy.ndarray`: The sampled elements from `x`, shape `(num_sample, n_features)`."
      ],
      "metadata": {
        "id": "hjFjejhILPAF"
      }
    },
    {
      "cell_type": "code",
      "source": [
        "from sampling import sample_from_prob\n",
        "\n",
        "x = np.array([[1], [2], [3], [4], [5]])\n",
        "pl = np.array([0.1, 0.2, 0.3, 0.2, 0.2])\n",
        "num_sample = 3\n",
        "samples = sample_from_prob(x, pl, num_sample)\n",
        "print(f\"Sampled data points (Test Case 1): {samples}\")"
      ],
      "metadata": {
        "colab": {
          "base_uri": "https://localhost:8080/"
        },
        "id": "U4q7fvZACcQJ",
        "outputId": "da803282-362f-469d-e446-1bbacb26a353"
      },
      "execution_count": 12,
      "outputs": [
        {
          "output_type": "stream",
          "name": "stdout",
          "text": [
            "Sampled data points (Test Case 1): [[3]\n",
            " [2]\n",
            " [4]]\n"
          ]
        }
      ]
    },
    {
      "cell_type": "markdown",
      "source": [
        "### `prob_from_sample` function"
      ],
      "metadata": {
        "id": "mGt7iz0YLIdT"
      }
    },
    {
      "cell_type": "markdown",
      "source": [
        "Computes the empirical probability distribution from a dataset. It counts the occurrences of each element in the dataset and normalizes the counts to produce a probability distribution.\n",
        "\n",
        "**Args**\n",
        "- `dataset` (numpy.ndarray): The dataset to compute the probability distribution from.\n",
        "- `hndim` (int): The number of possible distinct outcomes in the dataset.\n",
        "\n",
        "**Returns**\n",
        "- `numpy.ndarray`: The empirical probability distribution, shape `(hndim,)`."
      ],
      "metadata": {
        "id": "b_OeVWrkLRQQ"
      }
    },
    {
      "cell_type": "code",
      "source": [
        "from sampling import prob_from_sample\n",
        "\n",
        "dataset = np.array([0, 1, 2, 1, 3, 0, 0, 1, 3, 2])\n",
        "hndim = 4\n",
        "empirical_prob = prob_from_sample(dataset, hndim)\n",
        "print(f\"Empirical probability distribution (Test Case 3): {empirical_prob}\")"
      ],
      "metadata": {
        "colab": {
          "base_uri": "https://localhost:8080/"
        },
        "id": "3frgAbYACpO-",
        "outputId": "f1d394f1-5aec-415d-d7a6-f09af86a54fb"
      },
      "execution_count": 13,
      "outputs": [
        {
          "output_type": "stream",
          "name": "stdout",
          "text": [
            "Empirical probability distribution (Test Case 3): [0.3 0.3 0.2 0.2]\n"
          ]
        }
      ]
    }
  ]
}