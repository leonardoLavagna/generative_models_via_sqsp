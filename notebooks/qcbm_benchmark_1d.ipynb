{
  "nbformat": 4,
  "nbformat_minor": 0,
  "metadata": {
    "colab": {
      "provenance": []
    },
    "kernelspec": {
      "name": "python3",
      "display_name": "Python 3"
    },
    "language_info": {
      "name": "python"
    }
  },
  "cells": [
    {
      "cell_type": "markdown",
      "source": [
        "#notebooks.qcbm_benchmark_1d"
      ],
      "metadata": {
        "id": "_JZ3ILVNoQJW"
      }
    },
    {
      "cell_type": "code",
      "source": [
        "import numpy as np\n",
        "import matplotlib.pyplot as plt\n",
        "from scipy.stats import beta\n",
        "from scipy.optimize import minimize"
      ],
      "metadata": {
        "id": "zouMLW7CpLJn"
      },
      "execution_count": 1,
      "outputs": []
    },
    {
      "cell_type": "code",
      "source": [
        "import os\n",
        "os.chdir('..')"
      ],
      "metadata": {
        "id": "bp8V5TWAqz-R"
      },
      "execution_count": 2,
      "outputs": []
    },
    {
      "cell_type": "code",
      "source": [
        "from config import *\n",
        "from utilities.qcbm import ArbitraryRotation, CNOTEntangler, BlockQueue, QCBM\n",
        "from utilities.kernels import RBFMMD2"
      ],
      "metadata": {
        "id": "uuHkgtjkqUVa"
      },
      "execution_count": 3,
      "outputs": []
    },
    {
      "cell_type": "code",
      "source": [
        "def get_nn_pairs(num_bit):\n",
        "    '''get nearest neighbor pairs (CNOTs are applied to these pairs).'''\n",
        "    res = []\n",
        "    for inth in range(2):\n",
        "        for i in range(inth, num_bit, 2):\n",
        "            res = res + [(i, i_ % num_bit) for i_ in range(i + 1, i + 2)]\n",
        "    return res\n",
        "\n",
        "def get_circuit(num_bit, depth, pairs):\n",
        "    '''Get the qcbm circuit with given number of qubits, depth and CNOT pairs'''\n",
        "    blocks = []\n",
        "    # build circuit\n",
        "    for idepth in range(depth+1):\n",
        "        blocks.append(ArbitraryRotation(num_bit))\n",
        "        if idepth!=depth:\n",
        "            blocks.append(CNOTEntangler(num_bit, pairs))\n",
        "    # set leading and trailing Rz to disabled\n",
        "    blocks[0].mask[::3] = False\n",
        "    blocks[-1].mask[2::3] = False\n",
        "    return BlockQueue(blocks)"
      ],
      "metadata": {
        "id": "b7YbcAVdpbfj"
      },
      "execution_count": 4,
      "outputs": []
    },
    {
      "cell_type": "code",
      "source": [
        "def train(bm, theta_list, method, max_iter=1000, step_rate=0.1):\n",
        "    '''\n",
        "    train a Born Machine.\n",
        "\n",
        "    Args:\n",
        "        bm (QCBM): quantum circuit born machine training strategy.\n",
        "        theta_list (1darray): initial parameters.\n",
        "        method ('COBYLA'): optimization method\n",
        "        max_iter (int): maximum allowed number of iterations.\n",
        "        step_rate (float): learning rate for Adam optimizer.\n",
        "\n",
        "    Returns:\n",
        "        (float, 1darray): final loss and parameters.\n",
        "    '''\n",
        "    step = [0]\n",
        "    def callback(x, *args, **kwargs):\n",
        "        step[0] += 1\n",
        "        print('step = %d, loss = %s'%(step[0], bm.mmd_loss(x)))\n",
        "\n",
        "    theta_list = np.array(theta_list)\n",
        "    res = minimize(bm.mmd_loss, x0=theta_list, method=method, tol=1e-12,\n",
        "                   options={'maxiter': max_iter, 'disp': 0},callback=callback,)\n",
        "    return res.fun, res.x"
      ],
      "metadata": {
        "id": "MMOz6ehSrx9Q"
      },
      "execution_count": 5,
      "outputs": []
    },
    {
      "cell_type": "code",
      "source": [
        "alpha = 2\n",
        "beta_ = 2\n",
        "m = 4\n",
        "depth = 1\n",
        "a = 0\n",
        "b = 1"
      ],
      "metadata": {
        "id": "wsJhJEVgobYQ"
      },
      "execution_count": 6,
      "outputs": []
    },
    {
      "cell_type": "code",
      "source": [
        "p_i_set = beta.pdf(np.linspace(a, b, 2**m), alpha, beta_)\n",
        "p_i_set /= p_i_set.sum()"
      ],
      "metadata": {
        "id": "AhCtK9SepS6T"
      },
      "execution_count": 7,
      "outputs": []
    },
    {
      "cell_type": "code",
      "source": [
        "pairs = get_nn_pairs(m)\n",
        "circuit = get_circuit(m, depth, pairs)\n",
        "mmd = RBFMMD2(sigma_list=[1,2], basis=np.arange(2**m))\n",
        "bm = QCBM(circuit, mmd, p_i_set, batch_size=None)"
      ],
      "metadata": {
        "id": "rceX4y4apWIU"
      },
      "execution_count": 8,
      "outputs": []
    },
    {
      "cell_type": "code",
      "source": [
        "theta_list = np.random.random(bm.circuit.num_param)*2*np.pi\n",
        "loss, theta_list = train(bm, theta_list, 'COBYLA', max_iter=99)\n",
        "pl = bm.pdf(theta_list)"
      ],
      "metadata": {
        "colab": {
          "base_uri": "https://localhost:8080/"
        },
        "id": "TNVJcysvraaM",
        "outputId": "e0ea6a44-1f62-4cbc-87c6-fee67898fdb8"
      },
      "execution_count": 9,
      "outputs": [
        {
          "output_type": "stream",
          "name": "stdout",
          "text": [
            "step = 1, loss = 0.6836887529911742\n",
            "step = 2, loss = 0.6708056889573536\n",
            "step = 3, loss = 0.4027501797122242\n",
            "step = 4, loss = 0.37368368297447824\n",
            "step = 5, loss = 0.255342910306281\n",
            "step = 6, loss = 0.23415688834041123\n",
            "step = 7, loss = 0.16977218983573378\n",
            "step = 8, loss = 0.1776055830611478\n",
            "step = 9, loss = 0.18405868900530734\n",
            "step = 10, loss = 0.1956910717249295\n",
            "step = 11, loss = 0.20307226684892926\n",
            "step = 12, loss = 0.20534670896901341\n",
            "step = 13, loss = 0.20169974781117872\n",
            "step = 14, loss = 0.2490480239862641\n",
            "step = 15, loss = 0.16997648802977758\n",
            "step = 16, loss = 0.13838237127595074\n",
            "step = 17, loss = 0.12169481365926749\n",
            "step = 18, loss = 0.11413706111310348\n",
            "step = 19, loss = 0.08007390634882172\n",
            "step = 20, loss = 0.04944131409159455\n",
            "step = 21, loss = 0.05871745567981432\n",
            "step = 22, loss = 0.07737619863026148\n",
            "step = 23, loss = 0.049971953722068044\n",
            "step = 24, loss = 0.053721781031455404\n",
            "step = 25, loss = 0.034649491656466504\n",
            "step = 26, loss = 0.02062825504619423\n",
            "step = 27, loss = 0.08267831300135782\n",
            "step = 28, loss = 0.02144071717294826\n",
            "step = 29, loss = 0.04903579980749643\n",
            "step = 30, loss = 0.020969225662703414\n",
            "step = 31, loss = 0.029566711308020122\n",
            "step = 32, loss = 0.02326047549363194\n",
            "step = 33, loss = 0.06930066790927361\n",
            "step = 34, loss = 0.017543025355241375\n",
            "step = 35, loss = 0.0672019221295101\n",
            "step = 36, loss = 0.023090747829659284\n",
            "step = 37, loss = 0.045502245608980287\n",
            "step = 38, loss = 0.020337859143922624\n",
            "step = 39, loss = 0.01660211090975752\n",
            "step = 40, loss = 0.044002586884241524\n",
            "step = 41, loss = 0.020625022628681752\n",
            "step = 42, loss = 0.025672526569481623\n",
            "step = 43, loss = 0.017318494768676695\n",
            "step = 44, loss = 0.019566485642748106\n",
            "step = 45, loss = 0.01458447520805463\n",
            "step = 46, loss = 0.0169719641681981\n",
            "step = 47, loss = 0.017302482818484566\n",
            "step = 48, loss = 0.022280094026483368\n",
            "step = 49, loss = 0.01689368537976494\n",
            "step = 50, loss = 0.016240555248633506\n",
            "step = 51, loss = 0.011537393933369772\n",
            "step = 52, loss = 0.01185641348329813\n",
            "step = 53, loss = 0.011728790959356708\n",
            "step = 54, loss = 0.010955108498476706\n",
            "step = 55, loss = 0.010127026387910732\n",
            "step = 56, loss = 0.009524107245036773\n",
            "step = 57, loss = 0.012965363474441018\n",
            "step = 58, loss = 0.011145780963432139\n",
            "step = 59, loss = 0.00983369095383035\n",
            "step = 60, loss = 0.01309103558839933\n",
            "step = 61, loss = 0.00864165964997764\n",
            "step = 62, loss = 0.007699266800611556\n",
            "step = 63, loss = 0.011663597672809278\n",
            "step = 64, loss = 0.008758700681706743\n",
            "step = 65, loss = 0.008328614328439544\n",
            "step = 66, loss = 0.005470480897294771\n",
            "step = 67, loss = 0.0058269661538313915\n",
            "step = 68, loss = 0.006230769810606052\n",
            "step = 69, loss = 0.005137173829750987\n",
            "step = 70, loss = 0.005226226768921055\n",
            "step = 71, loss = 0.00526997760013646\n",
            "step = 72, loss = 0.003989959116119158\n",
            "step = 73, loss = 0.0033927781638847694\n",
            "step = 74, loss = 0.003437798341188938\n",
            "step = 75, loss = 0.003981594920836362\n",
            "step = 76, loss = 0.0037017308974054766\n",
            "step = 77, loss = 0.003400569325156923\n",
            "step = 78, loss = 0.0035662289580425657\n",
            "step = 79, loss = 0.004443587574805093\n",
            "step = 80, loss = 0.003301267479153693\n",
            "step = 81, loss = 0.003567355231117258\n",
            "step = 82, loss = 0.003750911326400251\n",
            "step = 83, loss = 0.003312383904974646\n",
            "step = 84, loss = 0.0039036501380081256\n",
            "step = 85, loss = 0.004642312960498803\n",
            "step = 86, loss = 0.003186035414826281\n",
            "step = 87, loss = 0.004409025792721356\n",
            "step = 88, loss = 0.003339747815206138\n",
            "step = 89, loss = 0.003330454196725393\n",
            "step = 90, loss = 0.003257545267808294\n",
            "step = 91, loss = 0.003771414504929727\n",
            "step = 92, loss = 0.0032068953690094666\n",
            "step = 93, loss = 0.0032485538527868884\n",
            "step = 94, loss = 0.003319457394329782\n",
            "step = 95, loss = 0.0032756481236087946\n",
            "step = 96, loss = 0.00317757647800635\n",
            "step = 97, loss = 0.0032633850457920097\n",
            "step = 98, loss = 0.003845546570312537\n",
            "step = 99, loss = 0.003075781807603746\n",
            "step = 100, loss = 0.00317757647800635\n"
          ]
        }
      ]
    },
    {
      "cell_type": "code",
      "source": [
        "plt.figure(figsize=(8, 5))\n",
        "plt.bar(range(len(p_i_set)), p_i_set, alpha=0.6, label='Theoretical Beta Dist.', color='blue')\n",
        "plt.bar(range(len(pl)), pl, alpha=0.6, label='QCBM Samples', color='red')\n",
        "plt.xlabel(\"Bins\")\n",
        "plt.ylabel(\"Probability\")\n",
        "plt.legend()\n",
        "plt.title(\"Comparison of QCBM samples and Beta Distribution\")\n",
        "plt.show()"
      ],
      "metadata": {
        "colab": {
          "base_uri": "https://localhost:8080/",
          "height": 487
        },
        "id": "SjoHz9MWu7wt",
        "outputId": "5ec88195-a72e-4c9c-a8ab-15214a73ade4"
      },
      "execution_count": 10,
      "outputs": [
        {
          "output_type": "display_data",
          "data": {
            "text/plain": [
              "<Figure size 800x500 with 1 Axes>"
            ],
            "image/png": "[encoded data removed]"
          },
          "metadata": {}
        }
      ]
    }
  ]
}