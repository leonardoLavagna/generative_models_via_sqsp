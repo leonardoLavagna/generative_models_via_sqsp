{
  "nbformat": 4,
  "nbformat_minor": 0,
  "metadata": {
    "colab": {
      "provenance": []
    },
    "kernelspec": {
      "name": "python3",
      "display_name": "Python 3"
    },
    "language_info": {
      "name": "python"
    }
  },
  "cells": [
    {
      "cell_type": "markdown",
      "source": [
        "#notebooks.QBM_1d\n",
        "Sample generation from a beta distribution using the quantum Born machine. Essentially a fork of https://github.com/GiggleLiu/QuantumCircuitBornMachine to adapt the methodology in https://arxiv.org/abs/1804.04168 for the current project."
      ],
      "metadata": {
        "id": "6ZUPgiaLfY1l"
      }
    },
    {
      "cell_type": "markdown",
      "source": [
        "## Setup"
      ],
      "metadata": {
        "id": "6M420Z14Ah1T"
      }
    },
    {
      "cell_type": "code",
      "source": [
        "import os\n",
        "os.chdir('generative_models_via_sqsp')"
      ],
      "metadata": {
        "id": "Lt9ftgtwAKbz"
      },
      "execution_count": 1,
      "outputs": []
    },
    {
      "cell_type": "code",
      "source": [
        "from config import *"
      ],
      "metadata": {
        "id": "GO5Y9y68uZiV"
      },
      "execution_count": 2,
      "outputs": []
    },
    {
      "cell_type": "code",
      "source": [
        "import numpy as np\n",
        "import matplotlib.pyplot as plt\n",
        "import scipy.sparse as sps\n",
        "from scipy.stats import beta"
      ],
      "metadata": {
        "id": "_hHSxtpkAe5R"
      },
      "execution_count": 3,
      "outputs": []
    },
    {
      "cell_type": "markdown",
      "source": [
        "## QBM"
      ],
      "metadata": {
        "id": "2QwdcLeTBlBD"
      }
    },
    {
      "cell_type": "markdown",
      "source": [
        "### Globals"
      ],
      "metadata": {
        "id": "zroR6RHOAr8M"
      }
    },
    {
      "cell_type": "code",
      "source": [
        "#Pauli Matrices\n",
        "I2 = sps.eye(2).tocsr()\n",
        "sx = sps.csr_matrix([[0,1],[1,0.]])\n",
        "sy = sps.csr_matrix([[0,-1j],[1j,0.]])\n",
        "sz = sps.csr_matrix([[1,0],[0,-1.]])\n",
        "\n",
        "#Projectors\n",
        "p0 = (sz + I2) / 2\n",
        "p1 = (-sz + I2) / 2"
      ],
      "metadata": {
        "id": "jic-qMmEAtSs"
      },
      "execution_count": 4,
      "outputs": []
    },
    {
      "cell_type": "markdown",
      "source": [
        "### Utilities"
      ],
      "metadata": {
        "id": "hQghlbCEBo21"
      }
    },
    {
      "cell_type": "code",
      "source": [
        "def rot_matrix(si, theta):\n",
        "    \"\"\"\n",
        "    Single qubit rotation\n",
        "    \"\"\"\n",
        "    return np.cos(theta/2.)*I2 - 1j*np.sin(theta/2.)*si\n",
        "\n",
        "def rot(t1, t2, t3):\n",
        "    '''\n",
        "    a general rotation gate rz(t3)rx(r2)rz(t1).\n",
        "\n",
        "    Args:\n",
        "        t1, t2, t3 (float): three angles.\n",
        "\n",
        "    Returns:\n",
        "        2x2 csr_matrix: rotation matrix.\n",
        "    '''\n",
        "    return rot_matrix(sz, t3).dot(rot_matrix(sx, t2)).dot(rot_matrix(sz, t1))\n",
        "\n",
        "def CNOT(ibit, jbit, n):\n",
        "    '''\n",
        "    CNOT gate\n",
        "\n",
        "    Args:\n",
        "        ibit (int): control bit.\n",
        "        jbit (int): controled bit.\n",
        "        n (int): total number of qubits.\n",
        "\n",
        "    Returns:\n",
        "        4x4 csr_matrix: CNOT matrix.\n",
        "    '''\n",
        "    res = compiler([p0, I2], [ibit, jbit], n)\n",
        "    res = res + compiler([p1, sx], [ibit, jbit], n)\n",
        "    return res\n",
        "\n",
        "def compiler(ops, locs, n):\n",
        "    '''\n",
        "    Compile operators into specific Hilbert space.\n",
        "\n",
        "    Args:\n",
        "        ops (list): list of single bit operators.\n",
        "        locs (list): list of positions.\n",
        "        n (int): total number of bits.\n",
        "\n",
        "    Returns:\n",
        "        csr_matrix: resulting matrix.\n",
        "\n",
        "    Remark: the last bit is the high end bit\n",
        "    '''\n",
        "    if np.ndim(locs) == 0:\n",
        "        locs = [locs]\n",
        "    if not isinstance(ops, (list, tuple)):\n",
        "        ops = [ops]\n",
        "    locs = np.asarray(locs)\n",
        "    locs = n - locs\n",
        "    order = np.argsort(locs)\n",
        "    locs = np.concatenate([[0], locs[order], [n + 1]])\n",
        "    return wrap_identity([ops[i] for i in order], np.diff(locs) - 1)\n",
        "\n",
        "def wrap_identity(data_list, num_bit_list):\n",
        "    if len(num_bit_list) != len(data_list) + 1:\n",
        "        raise Exception()\n",
        "\n",
        "    res = sps.eye(2**num_bit_list[0])\n",
        "    for data, nbit in zip(data_list, num_bit_list[1:]):\n",
        "        res = sps.kron(res, data)\n",
        "        res = sps.kron(res, sps.eye(2**nbit, dtype='complex128'))\n",
        "    return res\n",
        "\n",
        "def initial_wf(num_bit):\n",
        "    '''initial wave function |00...0>.'''\n",
        "    wf = np.zeros(2**num_bit, dtype='complex128')\n",
        "    wf[0] = 1.\n",
        "    return wf\n",
        "\n",
        "def _rot_tocsr_update1(layer, old, theta_old, theta_new):\n",
        "    '''\n",
        "    rotation layer csr_matrices update method.\n",
        "\n",
        "    Args:\n",
        "        layer (ArbitraryRotation): rotation layer.\n",
        "        old (csr_matrix): old matrices.\n",
        "        theta_old (1darray): old parameters.\n",
        "        theta_new (1darray): new parameters.\n",
        "\n",
        "    Returns:\n",
        "        list of csr_matrix: new rotation matrices after the theta changed.\n",
        "    '''\n",
        "    idiff_param = np.where(abs(theta_old-theta_new)>1e-12)[0].item()\n",
        "    idiff = np.where(layer.mask)[0][idiff_param]\n",
        "    # get rotation parameters\n",
        "    isite = idiff//3\n",
        "    theta_list_ = np.zeros(3*layer.num_bit)\n",
        "    theta_list_[layer.mask] = theta_new\n",
        "    new = old[:]\n",
        "    new[isite] = compiler(rot(*theta_list_[isite*3:isite*3+3]), isite, layer.num_bit)\n",
        "    return new"
      ],
      "metadata": {
        "id": "HYs-YoZpAvW6"
      },
      "execution_count": 5,
      "outputs": []
    },
    {
      "cell_type": "code",
      "source": [
        "def get_nn_pairs(num_bit):\n",
        "    '''get nearest neighbor pairs (CNOTs are applied to these pairs).'''\n",
        "    res = []\n",
        "    for inth in range(2):\n",
        "        for i in range(inth, num_bit, 2):\n",
        "            res = res + [(i, i_ % num_bit) for i_ in range(i + 1, i + 2)]\n",
        "    return res\n",
        "\n",
        "def get_circuit(num_bit, depth, pairs):\n",
        "    '''Get the circuit used for demo'''\n",
        "    blocks = []\n",
        "    # build circuit\n",
        "    for idepth in range(depth+1):\n",
        "        blocks.append(ArbitraryRotation(num_bit))\n",
        "        if idepth!=depth:\n",
        "            blocks.append(CNOTEntangler(num_bit, pairs))\n",
        "    # set leading and trailing Rz to disabled\n",
        "    blocks[0].mask[::3] = False\n",
        "    blocks[-1].mask[2::3] = False\n",
        "    return BlockQueue(blocks)\n",
        "\n",
        "def mix_rbf_kernel(x, y, sigma_list):\n",
        "    '''\n",
        "    multi-RBF kernel.\n",
        "\n",
        "    Args:\n",
        "        x (1darray|2darray): the collection of samples A.\n",
        "        x (1darray|2darray): the collection of samples B.\n",
        "        sigma_list (list): a list of bandwidths.\n",
        "\n",
        "    Returns:\n",
        "        2darray: kernel matrix.\n",
        "    '''\n",
        "    ndim = x.ndim\n",
        "    if ndim == 1:\n",
        "        exponent = np.abs(x[:, None] - y[None, :])**2\n",
        "    elif ndim == 2:\n",
        "        exponent = ((x[:, None, :] - y[None, :, :])**2).sum(axis=2)\n",
        "    else:\n",
        "        raise\n",
        "    K = 0.0\n",
        "    for sigma in sigma_list:\n",
        "        gamma = 1.0 / (2 * sigma)\n",
        "        K = K + np.exp(-gamma * exponent)\n",
        "    return K\n",
        "\n",
        "def sample_from_prob(x, pl, num_sample):\n",
        "    '''\n",
        "    sample x ~ pl.\n",
        "    '''\n",
        "    pl = 1. / pl.sum() * pl\n",
        "    indices = np.arange(len(x))\n",
        "    res = np.random.choice(indices, num_sample, p=pl)\n",
        "    return np.array([x[r] for r in res])\n",
        "\n",
        "def prob_from_sample(dataset, hndim):\n",
        "    '''\n",
        "    emperical probability from data.\n",
        "    '''\n",
        "    p_data = np.bincount(dataset, minlength=hndim)\n",
        "    p_data = p_data / float(np.sum(p_data))\n",
        "    return p_data\n",
        "\n",
        "def train(bm, theta_list, method, max_iter=1000, step_rate=0.1):\n",
        "    '''\n",
        "    train a Born Machine.\n",
        "\n",
        "    Args:\n",
        "        bm (QCBM): quantum circuit born machine training strategy.\n",
        "        theta_list (1darray): initial parameters.\n",
        "        method ('Adam'|'L-BFGS-B'):\n",
        "            * L-BFGS-B: efficient, but not noise tolerant.\n",
        "            * Adam: noise tolerant.\n",
        "        max_iter (int): maximum allowed number of iterations.\n",
        "        step_rate (float): learning rate for Adam optimizer.\n",
        "\n",
        "    Returns:\n",
        "        (float, 1darray): final loss and parameters.\n",
        "    '''\n",
        "    step = [0]\n",
        "    def callback(x, *args, **kwargs):\n",
        "        step[0] += 1\n",
        "        print('step = %d, loss = %s'%(step[0], bm.mmd_loss(x)))\n",
        "\n",
        "    theta_list = np.array(theta_list)\n",
        "    if method == 'Adam':\n",
        "        try:\n",
        "            from climin import Adam\n",
        "        except:\n",
        "            !pip install git+https://github.com/BRML/climin.git\n",
        "            from climin import Adam\n",
        "        optimizer = Adam(wrt=theta_list, fprime=bm.gradient,step_rate=step_rate)\n",
        "        for info in optimizer:\n",
        "            callback(theta_list)\n",
        "            if step[0] == max_iter:\n",
        "                break\n",
        "        return bm.mmd_loss(theta_list), theta_list\n",
        "    else:\n",
        "        from scipy.optimize import minimize\n",
        "        res = minimize(bm.mmd_loss, x0=theta_list,\n",
        "                       method=method, jac = bm.gradient, tol=1e-12,\n",
        "                       options={'maxiter': max_iter, 'disp': 0, 'gtol':1e-10, 'ftol':0},\n",
        "                       callback=callback,\n",
        "                       )\n",
        "        return res.fun, res.x"
      ],
      "metadata": {
        "id": "1yBNm3S6B5PW"
      },
      "execution_count": 6,
      "outputs": []
    },
    {
      "cell_type": "markdown",
      "source": [
        "### classes"
      ],
      "metadata": {
        "id": "5--21zzzBglK"
      }
    },
    {
      "cell_type": "code",
      "source": [
        "class ArbitraryRotation(object):\n",
        "    '''Arbitrary rotation gate'''\n",
        "    def __init__(self, num_bit):\n",
        "        self.num_bit = num_bit\n",
        "        # mask is used to filter out some irrelevant (marked False) parameters\n",
        "        self.mask = np.array([True] * (3*num_bit), dtype='bool')\n",
        "\n",
        "    @property\n",
        "    def num_param(self):\n",
        "        return self.mask.sum()\n",
        "\n",
        "    def tocsr(self, theta_list):\n",
        "        '''transform this block to a sequence of csr_matrices.'''\n",
        "        theta_list_ = np.zeros(3*self.num_bit)\n",
        "        theta_list_[self.mask] = theta_list\n",
        "        rots = [rot(*ths) for ths in theta_list_.reshape([self.num_bit,3])]\n",
        "        res = [compiler([r], [i], self.num_bit) for i,r in enumerate(rots)]\n",
        "        return res\n",
        "\n",
        "\n",
        "class CNOTEntangler(object):\n",
        "    '''\n",
        "    CNOT Entangler Layer.\n",
        "\n",
        "    Args:\n",
        "        pairs (list): a list of tuples to represent connections.\n",
        "    '''\n",
        "    def __init__(self, num_bit, pairs):\n",
        "        self.num_bit = num_bit\n",
        "        self.pairs = pairs\n",
        "\n",
        "    @property\n",
        "    def num_param(self):\n",
        "        return 0\n",
        "\n",
        "    def tocsr(self, theta_list):\n",
        "        '''transform this block to a sequence of csr_matrices.'''\n",
        "        i, j = self.pairs[0]\n",
        "        res = CNOT(i, j, self.num_bit)\n",
        "        for i, j in self.pairs[1:]:\n",
        "            res = CNOT(i,j,self.num_bit).dot(res)\n",
        "        res.eliminate_zeros()\n",
        "        return [res]"
      ],
      "metadata": {
        "id": "uI_uvj3PAyHZ"
      },
      "execution_count": 7,
      "outputs": []
    },
    {
      "cell_type": "code",
      "source": [
        "class BlockQueue(list):\n",
        "    '''\n",
        "    Block Queue that keep track of theta_list changing history, for fast update.\n",
        "\n",
        "    Attributes:\n",
        "        theta_last (1darray): the cached circuit parameters.\n",
        "        memo (list): cached sparse matrices for layers.\n",
        "    '''\n",
        "    def __init__(self, *args):\n",
        "        list.__init__(self, *args)\n",
        "        self.theta_last = None\n",
        "        self.memo = None\n",
        "\n",
        "    def __call__(self, qureg, theta_list):\n",
        "        '''\n",
        "        Apply operations on vector basis: qureg. This operation changes vector inplace.\n",
        "\n",
        "        Args:\n",
        "            qureg (1darray): vector basis.\n",
        "            theta_list (1darray): circuit parameters:\n",
        "        '''\n",
        "        # cache? if theta_list change <= 1 parameters, then don't touch memory.\n",
        "        remember = self.theta_last is None or (abs(self.theta_last-theta_list)>1e-12).sum() > 1\n",
        "\n",
        "        mats = []\n",
        "        theta_last = self.theta_last\n",
        "        if remember:\n",
        "            self.theta_last = theta_list.copy()\n",
        "\n",
        "        qureg_ = qureg\n",
        "        for iblock, block in enumerate(self):\n",
        "            # generate or use a block matrix\n",
        "            num_param = block.num_param\n",
        "            theta_i, theta_list = np.split(theta_list, [num_param])\n",
        "            if theta_last is not None:\n",
        "                theta_o, theta_last = np.split(theta_last, [num_param])\n",
        "            if self.memo is not None and (num_param==0 or np.abs(theta_i-theta_o).max()<1e-12):\n",
        "                # use data cached in memory\n",
        "                mat = self.memo[iblock]\n",
        "            else:\n",
        "                if self.memo is not None and not remember:\n",
        "                    # update the changed gate, but not touching memory.\n",
        "                    mat = _rot_tocsr_update1(block, self.memo[iblock], theta_o, theta_i)\n",
        "                else:\n",
        "                    # regenerate one\n",
        "                    mat = block.tocsr(theta_i)\n",
        "            for mat_i in mat:\n",
        "                qureg_ = mat_i.dot(qureg_)\n",
        "            mats.append(mat)\n",
        "\n",
        "        if remember:\n",
        "            # cache data\n",
        "            self.memo = mats\n",
        "        # update register\n",
        "        qureg[...] = qureg_\n",
        "        np.testing.assert_(len(theta_list)==0)\n",
        "\n",
        "    @property\n",
        "    def num_bit(self):\n",
        "        return self[0].num_bit\n",
        "\n",
        "    @property\n",
        "    def num_param(self):\n",
        "        return sum([b.num_param for b in self])"
      ],
      "metadata": {
        "id": "YKcEyCD1A3gU"
      },
      "execution_count": 8,
      "outputs": []
    },
    {
      "cell_type": "code",
      "source": [
        "class RBFMMD2(object):\n",
        "    '''\n",
        "    MMD^2 with RBF (Gaussian) kernel.\n",
        "\n",
        "    Args:\n",
        "        sigma_list (list): a list of bandwidths.\n",
        "        basis (1darray): defininng space.\n",
        "\n",
        "    Attributes:\n",
        "        K (2darray): full kernel matrix, notice the Hilbert space is countable.\n",
        "    '''\n",
        "    def __init__(self, sigma_list, basis):\n",
        "        self.sigma_list = sigma_list\n",
        "        self.basis = basis\n",
        "        self.K = mix_rbf_kernel(basis, basis, self.sigma_list)\n",
        "\n",
        "    def __call__(self, px, py):\n",
        "        '''\n",
        "        Args:\n",
        "            px (1darray, default=None): probability for data set x, used only when self.is_exact==True.\n",
        "            py (1darray, default=None): same as px, but for data set y.\n",
        "\n",
        "        Returns:\n",
        "            float: loss.\n",
        "        '''\n",
        "        pxy = px-py\n",
        "        return self.kernel_expect(pxy, pxy)\n",
        "\n",
        "    def kernel_expect(self, px, py):\n",
        "        '''\n",
        "        expectation value of kernel function.\n",
        "\n",
        "        Args:\n",
        "            px (1darray): the first PDF.\n",
        "            py (1darray): the second PDF.\n",
        "\n",
        "        Returns:\n",
        "            float: kernel expectation.\n",
        "        '''\n",
        "        return px.dot(self.K).dot(py)"
      ],
      "metadata": {
        "id": "FBiTXQwnBXtE"
      },
      "execution_count": 9,
      "outputs": []
    },
    {
      "cell_type": "code",
      "source": [
        "class QCBM(object):\n",
        "    '''\n",
        "    Quantum Circuit Born Machine framework,\n",
        "\n",
        "    Args:\n",
        "        circuit (BlockQueue): the circuit architechture.\n",
        "        mmd (RBFMMD2): maximum mean discrepancy.\n",
        "        p_data (1darray): data probability distribution in computation basis.\n",
        "        batch_size (int|None): introducing sampling error, None for no sampling error.\n",
        "    '''\n",
        "    def __init__(self, circuit, mmd, p_data, batch_size=None):\n",
        "        self.circuit = circuit\n",
        "        self.mmd = mmd\n",
        "        self.p_data = p_data\n",
        "        self.batch_size = batch_size\n",
        "\n",
        "    @property\n",
        "    def depth(self):\n",
        "        '''defined by the number of entanglers'''\n",
        "        return (len(self.circuit)-1)//2\n",
        "\n",
        "    def pdf(self, theta_list):\n",
        "        '''\n",
        "        get probability distribution function.\n",
        "\n",
        "        Args:\n",
        "            theta_list (1darray): circuit parameters.\n",
        "\n",
        "        Returns:\n",
        "            1darray: probability distribution function.\n",
        "        '''\n",
        "        wf = initial_wf(self.circuit.num_bit)\n",
        "        self.circuit(wf, theta_list)\n",
        "        pl = np.abs(wf)**2\n",
        "        # introducing sampling error\n",
        "        if self.batch_size is not None:\n",
        "            pl = prob_from_sample(sample_from_prob(np.arange(len(pl)), pl, self.batch_size),\n",
        "                    len(pl))\n",
        "        return pl\n",
        "\n",
        "    def mmd_loss(self, theta_list):\n",
        "        '''get the loss'''\n",
        "        # get and cahe probability distritbution of Born Machine\n",
        "        self._prob = self.pdf(theta_list)\n",
        "        # use wave function to get mmd loss\n",
        "        return self.mmd(self._prob, self.p_data)\n",
        "\n",
        "    def gradient(self, theta_list):\n",
        "        '''\n",
        "        cheat and get gradient.\n",
        "        '''\n",
        "        prob = self.pdf(theta_list)\n",
        "        grad = []\n",
        "        for i in range(len(theta_list)):\n",
        "            # pi/2 phase\n",
        "            theta_list[i] += np.pi/2.\n",
        "            prob_pos = self.pdf(theta_list)\n",
        "            # -pi/2 phase\n",
        "            theta_list[i] -= np.pi\n",
        "            prob_neg = self.pdf(theta_list)\n",
        "            # recover\n",
        "            theta_list[i] += np.pi/2.\n",
        "\n",
        "            grad_pos = self.mmd.kernel_expect(prob, prob_pos) - self.mmd.kernel_expect(prob, prob_neg)\n",
        "            grad_neg = self.mmd.kernel_expect(self.p_data, prob_pos) - self.mmd.kernel_expect(self.p_data, prob_neg)\n",
        "            grad.append(grad_pos - grad_neg)\n",
        "        return np.array(grad)\n",
        "\n",
        "    def gradient_numerical(self, theta_list, delta=1e-2):\n",
        "        '''\n",
        "        numerical differenciation.\n",
        "        '''\n",
        "        grad = []\n",
        "        for i in range(len(theta_list)):\n",
        "            theta_list[i] += delta/2.\n",
        "            loss_pos = self.mmd_loss(theta_list)\n",
        "            theta_list[i] -= delta\n",
        "            loss_neg = self.mmd_loss(theta_list)\n",
        "            theta_list[i] += delta/2.\n",
        "\n",
        "            grad_i = (loss_pos - loss_neg)/delta\n",
        "            grad.append(grad_i)\n",
        "        return np.array(grad)"
      ],
      "metadata": {
        "id": "2xy7prf2Bz7a"
      },
      "execution_count": 10,
      "outputs": []
    },
    {
      "cell_type": "markdown",
      "source": [
        "## Test"
      ],
      "metadata": {
        "id": "XTLkTVFACFkZ"
      }
    },
    {
      "cell_type": "code",
      "source": [
        "alpha = 2\n",
        "beta_ = 2\n",
        "m = 4\n",
        "depth = 1\n",
        "a = 0\n",
        "b = 1"
      ],
      "metadata": {
        "id": "_JtlA1V9CNHJ"
      },
      "execution_count": 11,
      "outputs": []
    },
    {
      "cell_type": "code",
      "source": [
        "p_i_set = beta.pdf(np.linspace(a, b, 2**m), alpha, beta_)\n",
        "p_i_set /= p_i_set.sum()"
      ],
      "metadata": {
        "id": "SX-QpWcwCrcR"
      },
      "execution_count": 12,
      "outputs": []
    },
    {
      "cell_type": "code",
      "source": [
        "pairs = get_nn_pairs(m)\n",
        "circuit = get_circuit(m, depth, pairs)\n",
        "mmd = RBFMMD2(sigma_list=[1,2], basis=np.arange(2**m))#[0.25,4]\n",
        "bm = QCBM(circuit, mmd, p_i_set, batch_size=None)"
      ],
      "metadata": {
        "id": "rF7wuJoOCG5W"
      },
      "execution_count": 13,
      "outputs": []
    },
    {
      "cell_type": "code",
      "source": [
        "theta_list = np.random.random(bm.circuit.num_param)*2*np.pi\n",
        "#loss, theta_list = train(bm, theta_list, 'COBYLA', max_iter=9)\n",
        "loss, theta_list = train(bm, theta_list, 'L-BFGS-B', max_iter=10)\n",
        "pl = bm.pdf(theta_list)"
      ],
      "metadata": {
        "colab": {
          "base_uri": "https://localhost:8080/"
        },
        "id": "mBNF6xlaCJxm",
        "outputId": "5fb1a8a0-c503-4060-fd85-36eb09c6fa8e"
      },
      "execution_count": 16,
      "outputs": [
        {
          "output_type": "stream",
          "name": "stdout",
          "text": [
            "step = 1, loss = 0.06703623923771243\n",
            "step = 2, loss = 0.02224518168284447\n",
            "step = 3, loss = 0.018138005331493273\n",
            "step = 4, loss = 0.006892527803166158\n",
            "step = 5, loss = 0.004571341702567294\n",
            "step = 6, loss = 0.002400075950759994\n",
            "step = 7, loss = 0.0021155669299491187\n",
            "step = 8, loss = 0.0019393854780476623\n",
            "step = 9, loss = 0.0017852800394163506\n",
            "step = 10, loss = 0.001704930214912065\n"
          ]
        }
      ]
    },
    {
      "cell_type": "code",
      "source": [
        "plt.plot(pl)\n",
        "plt.plot(p_i_set)"
      ],
      "metadata": {
        "colab": {
          "base_uri": "https://localhost:8080/",
          "height": 447
        },
        "id": "r46VWzuFDyKA",
        "outputId": "e1df81e0-b184-4c49-91b9-42015b4abbcf"
      },
      "execution_count": 17,
      "outputs": [
        {
          "output_type": "execute_result",
          "data": {
            "text/plain": [
              "[<matplotlib.lines.Line2D at 0x786b4cad6750>]"
            ]
          },
          "metadata": {},
          "execution_count": 17
        },
        {
          "output_type": "display_data",
          "data": {
            "text/plain": [
              "<Figure size 640x480 with 1 Axes>"
            ],
            "image/png": "[encoded data removed]"
          },
          "metadata": {}
        }
      ]
    }
  ]
}