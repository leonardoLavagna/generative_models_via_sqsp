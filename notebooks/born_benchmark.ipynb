{
 "cells": [
  {
   "cell_type": "code",
   "execution_count": 1,
   "id": "30ec5823-abea-4f43-906a-f96d8dd17f6c",
   "metadata": {},
   "outputs": [],
   "source": [
    "from config import *\n",
    "from utilities.qcbm import ArbitraryRotation, CNOTEntangler, BlockQueue, QCBM\n",
    "from utilities.kernels import RBFMMD2"
   ]
  },
  {
   "cell_type": "code",
   "execution_count": 2,
   "id": "33addfff-e8cf-4cf3-a39a-97d13d6282a0",
   "metadata": {},
   "outputs": [],
   "source": [
    "import numpy as np\n",
    "import matplotlib.pyplot as plt\n",
    "from scipy.stats import beta\n",
    "from scipy.optimize import minimize\n",
    "from scipy.stats import beta, entropy, wasserstein_distance"
   ]
  },
  {
   "cell_type": "code",
   "execution_count": 3,
   "id": "3c63f7fc-a043-4ec8-b353-b9f415713ec5",
   "metadata": {},
   "outputs": [],
   "source": [
    "def get_nn_pairs(num_bit):\n",
    "    '''get nearest neighbor pairs (CNOTs are applied to these pairs).'''\n",
    "    res = []\n",
    "    for inth in range(2):\n",
    "        for i in range(inth, num_bit, 2):\n",
    "            res = res + [(i, i_ % num_bit) for i_ in range(i + 1, i + 2)]\n",
    "    return res\n",
    "\n",
    "def get_circuit(num_bit, depth, pairs):\n",
    "    '''Get the qcbm circuit with given number of qubits, depth and CNOT pairs'''\n",
    "    blocks = []\n",
    "    # build circuit\n",
    "    for idepth in range(depth+1):\n",
    "        blocks.append(ArbitraryRotation(num_bit))\n",
    "        if idepth!=depth:\n",
    "            blocks.append(CNOTEntangler(num_bit, pairs))\n",
    "    # set leading and trailing Rz to disabled\n",
    "    blocks[0].mask[::3] = False\n",
    "    blocks[-1].mask[2::3] = False\n",
    "    return BlockQueue(blocks)"
   ]
  },
  {
   "cell_type": "code",
   "execution_count": 4,
   "id": "6e5d1db4-411f-4c62-a4e9-589d112b3b1d",
   "metadata": {},
   "outputs": [],
   "source": [
    "def train(bm, theta_list, method, max_iter=1000, step_rate=0.1):\n",
    "    '''\n",
    "    train a Born Machine.\n",
    "\n",
    "    Args:\n",
    "        bm (QCBM): quantum circuit born machine training strategy.\n",
    "        theta_list (1darray): initial parameters.\n",
    "        method ('COBYLA'): optimization method\n",
    "        max_iter (int): maximum allowed number of iterations.\n",
    "        step_rate (float): learning rate for Adam optimizer.\n",
    "\n",
    "    Returns:\n",
    "        (float, 1darray): final loss and parameters.\n",
    "    '''\n",
    "    step = [0]\n",
    "    def callback(x, *args, **kwargs):\n",
    "        step[0] += 1\n",
    "        print('step = %d, loss = %s'%(step[0], bm.mmd_loss(x)))\n",
    "\n",
    "    theta_list = np.array(theta_list)\n",
    "    res = minimize(bm.mmd_loss, x0=theta_list, method=method, tol=1e-12,\n",
    "                   options={'maxiter': max_iter, 'disp': 0},callback=callback,)\n",
    "    return res.fun, res.x"
   ]
  },
  {
   "cell_type": "code",
   "execution_count": 5,
   "id": "d69b7c83-c466-4dee-b709-507b50f644bb",
   "metadata": {},
   "outputs": [],
   "source": [
    "alpha = 2\n",
    "beta_ = 2\n",
    "m = 2\n",
    "depth = 2\n",
    "a = 0\n",
    "b = 1"
   ]
  },
  {
   "cell_type": "code",
   "execution_count": 6,
   "id": "f2f9e6a2-e8b7-4503-81f9-4836ba9f0889",
   "metadata": {},
   "outputs": [],
   "source": [
    "p_i_set = beta.pdf(np.linspace(a, b, 2**m), alpha, beta_)\n",
    "p_i_set /= p_i_set.sum()"
   ]
  },
  {
   "cell_type": "code",
   "execution_count": 7,
   "id": "ea2eee74-22d3-410c-a01f-29e5031dbc38",
   "metadata": {},
   "outputs": [],
   "source": [
    "pairs = get_nn_pairs(m)\n",
    "circuit = get_circuit(m, depth, pairs)\n",
    "mmd = RBFMMD2(sigma_list=[1,2], basis=np.arange(2**m))\n",
    "bm = QCBM(circuit, mmd, p_i_set, batch_size=None)"
   ]
  },
  {
   "cell_type": "code",
   "execution_count": 8,
   "id": "ae0ceb20-1037-4559-ac42-d75253d2b763",
   "metadata": {},
   "outputs": [
    {
     "name": "stdout",
     "output_type": "stream",
     "text": [
      "step = 1, loss = 0.13140910412120765\n",
      "step = 2, loss = 0.19356381671783268\n",
      "step = 3, loss = 0.18225867002008483\n",
      "step = 4, loss = 0.1772810062479361\n",
      "step = 5, loss = 0.17728100624793597\n",
      "step = 6, loss = 0.17466278852027262\n",
      "step = 7, loss = 0.08582329300911859\n",
      "step = 8, loss = 0.1557086624684721\n",
      "step = 9, loss = 0.3086000339414774\n",
      "step = 10, loss = 0.10497495567623039\n",
      "step = 11, loss = 0.10497495567623041\n",
      "step = 12, loss = 0.07079778827707528\n",
      "step = 13, loss = 0.048308292014367815\n",
      "step = 14, loss = 0.031225104360138548\n",
      "step = 15, loss = 0.2588471892880008\n",
      "step = 16, loss = 0.02507223742718646\n",
      "step = 17, loss = 0.09536743861195045\n",
      "step = 18, loss = 0.06858855761285666\n",
      "step = 19, loss = 0.03735901059450932\n",
      "step = 20, loss = 0.018719187187583235\n",
      "step = 21, loss = 0.019062430891333547\n",
      "step = 22, loss = 0.018543189118443836\n",
      "step = 23, loss = 0.04255806358439193\n",
      "step = 24, loss = 0.03177193866585811\n",
      "step = 25, loss = 0.14168333957184076\n",
      "step = 26, loss = 0.02577101244521338\n",
      "step = 27, loss = 0.20530764741261684\n",
      "step = 28, loss = 0.021288628469415923\n",
      "step = 29, loss = 0.013462871551032589\n",
      "step = 30, loss = 0.061299329922646695\n",
      "step = 31, loss = 0.011964866896633626\n",
      "step = 32, loss = 0.06118672242501839\n",
      "step = 33, loss = 0.017123425552513203\n",
      "step = 34, loss = 0.03288256761598783\n",
      "step = 35, loss = 0.03249126163332037\n",
      "step = 36, loss = 0.014637547291653879\n",
      "step = 37, loss = 0.012316730094494868\n",
      "step = 38, loss = 0.012174940773775718\n",
      "step = 39, loss = 0.01932784458936601\n",
      "step = 40, loss = 0.016167495272166404\n",
      "step = 41, loss = 0.010463828385485551\n",
      "step = 42, loss = 0.011597293809374604\n",
      "step = 43, loss = 0.012310427146365283\n",
      "step = 44, loss = 0.011087153119028807\n",
      "step = 45, loss = 0.01948684978822964\n",
      "step = 46, loss = 0.006666867880516353\n",
      "step = 47, loss = 0.016788951375563247\n",
      "step = 48, loss = 0.007577136891777244\n",
      "step = 49, loss = 0.01482162792390394\n",
      "step = 50, loss = 0.0069367513244388\n",
      "step = 51, loss = 0.009258116792545432\n",
      "step = 52, loss = 0.008061859537824173\n",
      "step = 53, loss = 0.007952192672408293\n",
      "step = 54, loss = 0.007599021133916149\n",
      "step = 55, loss = 0.006739462821523733\n",
      "step = 56, loss = 0.009456914822258725\n",
      "step = 57, loss = 0.00623010629273555\n",
      "step = 58, loss = 0.0072773201322003656\n",
      "step = 59, loss = 0.006103317210410235\n",
      "step = 60, loss = 0.0070937840233722075\n",
      "step = 61, loss = 0.005936594852485289\n",
      "step = 62, loss = 0.00820016753477525\n",
      "step = 63, loss = 0.006567009950894809\n",
      "step = 64, loss = 0.005535422337465927\n",
      "step = 65, loss = 0.006478304945295204\n",
      "step = 66, loss = 0.005192441593522921\n",
      "step = 67, loss = 0.00673100032751905\n",
      "step = 68, loss = 0.004366979093942421\n",
      "step = 69, loss = 0.0036828659502720156\n",
      "step = 70, loss = 0.0036359812349713214\n",
      "step = 71, loss = 0.0036483125534794345\n",
      "step = 72, loss = 0.0029508552221892545\n",
      "step = 73, loss = 0.002054865257303655\n",
      "step = 74, loss = 0.0021357920345455605\n",
      "step = 75, loss = 0.0020331300809507923\n",
      "step = 76, loss = 0.0020895951320773986\n",
      "step = 77, loss = 0.0021667784174036536\n",
      "step = 78, loss = 0.0022438946632412533\n",
      "step = 79, loss = 0.0028025441717942357\n",
      "step = 80, loss = 0.0020541498832773127\n",
      "step = 81, loss = 0.0020902834507557167\n",
      "step = 82, loss = 0.0016596205125678021\n",
      "step = 83, loss = 0.0013713313880078025\n",
      "step = 84, loss = 0.0013866472236201833\n",
      "step = 85, loss = 0.0013949328072292097\n",
      "step = 86, loss = 0.0013680446801528471\n",
      "step = 87, loss = 0.001300296543977909\n",
      "step = 88, loss = 0.00168965529912887\n",
      "step = 89, loss = 0.0014264535796383994\n",
      "step = 90, loss = 0.0012179461271920264\n",
      "step = 91, loss = 0.0014837396263282533\n",
      "step = 92, loss = 0.001198474296301711\n",
      "step = 93, loss = 0.0012593952682919416\n",
      "step = 94, loss = 0.0012088699332237995\n",
      "step = 95, loss = 0.0012622277141566035\n",
      "step = 96, loss = 0.0012192299797120125\n",
      "step = 97, loss = 0.0012105713217627878\n",
      "step = 98, loss = 0.0013303418658359785\n",
      "step = 99, loss = 0.0012022140842730183\n",
      "step = 100, loss = 0.001198474296301711\n"
     ]
    }
   ],
   "source": [
    "theta_list = np.random.random(bm.circuit.num_param)*2*np.pi\n",
    "loss, theta_list = train(bm, theta_list, 'COBYLA', max_iter=99)\n",
    "pl = bm.pdf(theta_list)"
   ]
  },
  {
   "cell_type": "code",
   "execution_count": 9,
   "id": "264cef2b-f546-4bc9-8b13-2717807442fa",
   "metadata": {},
   "outputs": [
    {
     "data": {
      "image/png": "[encoded data removed]",
      "text/plain": [
       "<Figure size 800x500 with 1 Axes>"
      ]
     },
     "metadata": {},
     "output_type": "display_data"
    }
   ],
   "source": [
    "plt.figure(figsize=(8, 5))\n",
    "plt.bar(range(len(p_i_set)), p_i_set, alpha=0.6, label='Theoretical Beta Dist.', color='blue')\n",
    "plt.bar(range(len(pl)), pl, alpha=0.6, label='QCBM Samples', color='red')\n",
    "plt.xlabel(\"Bins\")\n",
    "plt.ylabel(\"Probability\")\n",
    "plt.legend()\n",
    "plt.title(\"Comparison of QCBM samples and Beta Distribution\")\n",
    "plt.show()"
   ]
  },
  {
   "cell_type": "code",
   "execution_count": 10,
   "id": "ae7ea6cf-d272-4fad-9993-a1663b507826",
   "metadata": {},
   "outputs": [
    {
     "name": "stdout",
     "output_type": "stream",
     "text": [
      "try: [0.  0.5 0.5 0. ]\n"
     ]
    }
   ],
   "source": [
    "print(\"try:\", p_i_set)"
   ]
  },
  {
   "cell_type": "code",
   "execution_count": 11,
   "id": "76eb464e-fc7a-4cf3-a2ce-897b1a0ebe44",
   "metadata": {},
   "outputs": [
    {
     "name": "stdout",
     "output_type": "stream",
     "text": [
      "gen: [0.01574291 0.48073658 0.48253562 0.02098489]\n"
     ]
    }
   ],
   "source": [
    "print(\"gen:\", pl)"
   ]
  },
  {
   "cell_type": "code",
   "execution_count": 12,
   "id": "5012cfbc-6a92-4329-94b1-28390da6b9aa",
   "metadata": {},
   "outputs": [
    {
     "name": "stdout",
     "output_type": "stream",
     "text": [
      "Earth Mover's Distance: 0.018363902340181915\n",
      "final loss: 0.001198474296301711\n"
     ]
    }
   ],
   "source": [
    "emd = wasserstein_distance(pl, p_i_set)\n",
    "print(f\"Earth Mover's Distance: {emd}\")\n",
    "print(f\"final loss: {loss}\")"
   ]
  }
 ],
 "metadata": {
  "kernelspec": {
   "display_name": "Python 3 (ipykernel)",
   "language": "python",
   "name": "python3"
  },
  "language_info": {
   "codemirror_mode": {
    "name": "ipython",
    "version": 3
   },
   "file_extension": ".py",
   "mimetype": "text/x-python",
   "name": "python",
   "nbconvert_exporter": "python",
   "pygments_lexer": "ipython3",
   "version": "3.12.7"
  }
 },
 "nbformat": 4,
 "nbformat_minor": 5
}
