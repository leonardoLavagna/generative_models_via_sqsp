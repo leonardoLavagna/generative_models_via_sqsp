{
 "cells": [
  {
   "cell_type": "code",
   "execution_count": 4,
   "id": "daf99366-a4a6-46da-bb41-ff728b50dc37",
   "metadata": {},
   "outputs": [],
   "source": [
    "from utilities.grover_state_preparation import *\n",
    "from utilities.auxiliaries import *\n",
    "from config import *\n",
    "\n",
    "import os\n",
    "import numpy as np\n",
    "import pandas as pd\n",
    "from scipy.stats import beta, wasserstein_distance\n",
    "from scipy.optimize import minimize\n",
    "from itertools import combinations\n",
    "from joblib import Parallel, delayed\n",
    "from tqdm import tqdm  "
   ]
  },
  {
   "cell_type": "code",
   "execution_count": 5,
   "id": "f7acd949-41c9-48be-8aa7-51f68dc90c42",
   "metadata": {},
   "outputs": [],
   "source": [
    "p_i_set = beta.pdf(np.linspace(a, b, 2**m), alpha_, beta_)\n",
    "p_i_set /= p_i_set.sum()\n",
    "n_angles = len(get_grover_angles(p_i_set, m))"
   ]
  },
  {
   "cell_type": "code",
   "execution_count": 6,
   "id": "659c4326-d302-4876-a8c0-c9af5884e8c2",
   "metadata": {},
   "outputs": [],
   "source": [
    "num_cores = max(1, os.cpu_count() - 0) #adjust how many cores to deplete"
   ]
  },
  {
   "cell_type": "code",
   "execution_count": 7,
   "id": "4e48d9fa-0371-4f16-93c6-d13d807d4aa6",
   "metadata": {},
   "outputs": [],
   "source": [
    "def optimize_configuration(idx_thetas_to_optimize):\n",
    "    idx_thetas_to_optimize = list(idx_thetas_to_optimize)\n",
    "\n",
    "    thetas_to_optimize = np.array(generate_parameters(len(idx_thetas_to_optimize), k=2))\n",
    "    thetas = get_grover_angles(p_i_set, m)\n",
    "\n",
    "    best_loss = float('inf')\n",
    "    best_thetas = None\n",
    "\n",
    "    for run in range(runs):\n",
    "        result = minimize(objective_function, thetas_to_optimize,\n",
    "                          args=(idx_thetas_to_optimize, thetas, p_i_set, shots),\n",
    "                          method=optimizer_type, options={\"disp\": False, \"maxiter\": max_iterations})\n",
    "\n",
    "        current_loss = result.fun\n",
    "        thetas_to_optimize = result.x\n",
    "\n",
    "        if current_loss < best_loss:\n",
    "            best_loss = current_loss\n",
    "            best_thetas = np.array(thetas.copy())\n",
    "            best_thetas[idx_thetas_to_optimize] = thetas_to_optimize \n",
    "\n",
    "    final_qc  = state_expansion(m, best_thetas)\n",
    "    counts = backend.run(transpile(final_qc, backend=backend), shots=shots).result().get_counts(final_qc)\n",
    "\n",
    "    samples = np.array([counts.get(state, 0) for state in all_states], dtype=float)\n",
    "    samples /= samples.sum()\n",
    "\n",
    "    emd = wasserstein_distance(samples, p_i_set)\n",
    "\n",
    "    return {\n",
    "        \"trainable angles\": str(idx_thetas_to_optimize),\n",
    "        \"best loss\": best_loss,\n",
    "        \"Earth Mover's Distance\": emd\n",
    "    } "
   ]
  },
  {
   "cell_type": "code",
   "execution_count": 8,
   "id": "928e4ad7-42b1-4b0e-a2c8-9196b7073699",
   "metadata": {},
   "outputs": [],
   "source": [
    "if __name__ == \"__main__\":\n",
    "    print(\"Preparing configurations...\")\n",
    "    \n",
    "    configurations = [comb for k in range(1, n_angles + 1) for comb in combinations(range(n_angles), k)]\n",
    "    print(f\"Done generating {len(configurations)} configurations.\")\n",
    "\n",
    "    results_list = Parallel(n_jobs=num_cores)(\n",
    "        delayed(optimize_configuration)(idx_thetas_to_optimize) for idx_thetas_to_optimize in tqdm(configurations, desc=\"Processing Configurations\")\n",
    "    )\n",
    "\n",
    "    results = pd.DataFrame(results_list)\n",
    "\n",
    "    saving_folder = r\"...\" #change this according to your prefered saving folder\n",
    "    excel_filename = os.path.join(saving_folder, \"testing_m4.csv\")  #change this according to your prefered file saving name\n",
    "    results.to_csv(excel_filename, index=False)\n",
    "\n",
    "    print(f\"\\nResults saved at: '{excel_filename}'\")"
   ]
  }
 ],
 "metadata": {
  "kernelspec": {
   "display_name": "Python 3 (ipykernel)",
   "language": "python",
   "name": "python3"
  },
  "language_info": {
   "codemirror_mode": {
    "name": "ipython",
    "version": 3
   },
   "file_extension": ".py",
   "mimetype": "text/x-python",
   "name": "python",
   "nbconvert_exporter": "python",
   "pygments_lexer": "ipython3",
   "version": "3.12.8"
  }
 },
 "nbformat": 4,
 "nbformat_minor": 5
}
