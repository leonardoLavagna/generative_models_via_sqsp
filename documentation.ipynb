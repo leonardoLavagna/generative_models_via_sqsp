{
  "nbformat": 4,
  "nbformat_minor": 0,
  "metadata": {
    "colab": {
      "provenance": []
    },
    "kernelspec": {
      "name": "python3",
      "display_name": "Python 3"
    },
    "language_info": {
      "name": "python"
    }
  },
  "cells": [
    {
      "cell_type": "markdown",
      "source": [
        "# documentation\n",
        "```\n",
        "generative_models_via_sqsp\n",
        "    |\n",
        "    |_ utilities\n",
        "        |\n",
        "        |_ compiler.py\n",
        "        |\n",
        "        |_ grover_state_preparation.py\n",
        "        |\n",
        "        |_ kernels.py\n",
        "        |\n",
        "        |_ qcbm.py  \n",
        "        |\n",
        "        |_ quantum_gates.py    \n",
        "        |\n",
        "        |_ sampling.py\n",
        "    |\n",
        "    .\n",
        "    .\n",
        "    .  \n",
        "  ```"
      ],
      "metadata": {
        "id": "9TmBPauDDC_k"
      }
    },
    {
      "cell_type": "code",
      "source": [
        "import os\n",
        "os.chdir('generative_models_via_sqsp')"
      ],
      "metadata": {
        "id": "tGKh9kotDvM2"
      },
      "execution_count": 1,
      "outputs": []
    },
    {
      "cell_type": "code",
      "source": [
        "import numpy as np\n",
        "import scipy.sparse as sps"
      ],
      "metadata": {
        "id": "XbtTUzSSD2ME"
      },
      "execution_count": 2,
      "outputs": []
    },
    {
      "cell_type": "markdown",
      "source": [
        "## compiler"
      ],
      "metadata": {
        "id": "C8U1MI7EGRne"
      }
    },
    {
      "cell_type": "markdown",
      "source": [
        "### `compiler(ops, locs, n)`"
      ],
      "metadata": {
        "id": "nVG3BEeXHj3t"
      }
    },
    {
      "cell_type": "markdown",
      "source": [
        "Compiles operators into a specific Hilbert space.\n",
        "\n",
        "**Args**\n",
        "- `ops` (list or tuple): A list or tuple of operators to be applied to the system.\n",
        "- `locs` (list or tuple): The qubit locations on which the operators will act.\n",
        "- `n` (int): The total number of qubits in the quantum system.\n",
        "\n",
        "**Returns**\n",
        "- `scipy.sparse.csr_matrix`: The resulting sparse matrix after applying all operators."
      ],
      "metadata": {
        "id": "6hRdkj_PJSvn"
      }
    },
    {
      "cell_type": "code",
      "source": [
        "from utilities.quantum_gates import sx, sz\n",
        "from utilities.compiler import compiler\n",
        "\n",
        "locs = [0, 1]\n",
        "n = 2\n",
        "result = compiler([sx, sz], locs, n)\n",
        "print(result.todense())"
      ],
      "metadata": {
        "colab": {
          "base_uri": "https://localhost:8080/"
        },
        "id": "1SUOv0uJ2cgM",
        "outputId": "e8e61095-055d-4c2d-e37f-3e00392c8c8b"
      },
      "execution_count": 3,
      "outputs": [
        {
          "output_type": "stream",
          "name": "stdout",
          "text": [
            "[[ 0.+0.j  1.+0.j  0.+0.j  0.+0.j]\n",
            " [ 1.+0.j  0.+0.j  0.+0.j  0.+0.j]\n",
            " [ 0.+0.j  0.+0.j  0.+0.j -1.+0.j]\n",
            " [ 0.+0.j  0.+0.j -1.+0.j  0.+0.j]]\n"
          ]
        }
      ]
    },
    {
      "cell_type": "markdown",
      "source": [
        "### `_wrap_identity(data_list, num_bit_list)`"
      ],
      "metadata": {
        "id": "xVf49aW3IGFF"
      }
    },
    {
      "cell_type": "markdown",
      "source": [
        "Helper function to apply identity operators to the Hilbert space.\n",
        "\n",
        "**Args:**\n",
        "- `data_list` (list): A list of operators to be applied to the quantum system.\n",
        "- `num_bit_list` (list): A list containing the number of qubits on which each operator acts.\n",
        "\n",
        "**Returns:**\n",
        "- `scipy.sparse.csr_matrix`: The resulting sparse matrix after applying the operators.\n",
        "\n",
        "**Raises:**\n",
        "- `Exception`: If the length of `num_bit_list` is inconsistent with the number of operators.\n"
      ],
      "metadata": {
        "id": "YVTsBVqAJVse"
      }
    },
    {
      "cell_type": "code",
      "source": [
        "from utilities.compiler import _wrap_identity\n",
        "\n",
        "data_list = [sx]\n",
        "num_bit_list = [1,1]\n",
        "full_operator = _wrap_identity(data_list, num_bit_list)\n",
        "print(full_operator.toarray())"
      ],
      "metadata": {
        "id": "dZkflZOqIJoq",
        "colab": {
          "base_uri": "https://localhost:8080/"
        },
        "outputId": "4d5910b1-6f23-45a1-a8c4-a98e8ffcdb9b"
      },
      "execution_count": 4,
      "outputs": [
        {
          "output_type": "stream",
          "name": "stdout",
          "text": [
            "[[0.+0.j 0.+0.j 1.+0.j 0.+0.j 0.+0.j 0.+0.j 0.+0.j 0.+0.j]\n",
            " [0.+0.j 0.+0.j 0.+0.j 1.+0.j 0.+0.j 0.+0.j 0.+0.j 0.+0.j]\n",
            " [1.+0.j 0.+0.j 0.+0.j 0.+0.j 0.+0.j 0.+0.j 0.+0.j 0.+0.j]\n",
            " [0.+0.j 1.+0.j 0.+0.j 0.+0.j 0.+0.j 0.+0.j 0.+0.j 0.+0.j]\n",
            " [0.+0.j 0.+0.j 0.+0.j 0.+0.j 0.+0.j 0.+0.j 1.+0.j 0.+0.j]\n",
            " [0.+0.j 0.+0.j 0.+0.j 0.+0.j 0.+0.j 0.+0.j 0.+0.j 1.+0.j]\n",
            " [0.+0.j 0.+0.j 0.+0.j 0.+0.j 1.+0.j 0.+0.j 0.+0.j 0.+0.j]\n",
            " [0.+0.j 0.+0.j 0.+0.j 0.+0.j 0.+0.j 1.+0.j 0.+0.j 0.+0.j]]\n"
          ]
        }
      ]
    },
    {
      "cell_type": "markdown",
      "source": [
        "### `initial_wf(num_bit)`\n"
      ],
      "metadata": {
        "id": "sHM5TmYbIJ9Z"
      }
    },
    {
      "cell_type": "markdown",
      "source": [
        "Generates the initial wave function |00...0> for a quantum system.\n",
        "\n",
        "**Args:**\n",
        "- `num_bit` (int): The number of qubits in the system.\n",
        "\n",
        "**Returns:**\n",
        "- `np.ndarray`: The initial wave function as a numpy array.\n",
        "\n",
        "**Remarks:**\n",
        "- The function returns the state vector |00...0>, which represents the quantum system being initialized to the ground state (all qubits in state |0>)."
      ],
      "metadata": {
        "id": "63cUZO-RJX5D"
      }
    },
    {
      "cell_type": "code",
      "source": [
        "from utilities.compiler import initial_wf\n",
        "\n",
        "print(initial_wf(1))"
      ],
      "metadata": {
        "id": "xRTjmXeKIKtR",
        "colab": {
          "base_uri": "https://localhost:8080/"
        },
        "outputId": "2d66a698-4edf-4f33-89dd-4edac5fc0c06"
      },
      "execution_count": 5,
      "outputs": [
        {
          "output_type": "stream",
          "name": "stdout",
          "text": [
            "[1.+0.j 0.+0.j]\n"
          ]
        }
      ]
    },
    {
      "cell_type": "markdown",
      "source": [
        "## grover_state_preparation"
      ],
      "metadata": {
        "id": "84uRLvdAIYw8"
      }
    },
    {
      "cell_type": "markdown",
      "source": [
        "### `get_grover_angles(p_i_set, m)`\n"
      ],
      "metadata": {
        "id": "PNEYwYhNIhnN"
      }
    },
    {
      "cell_type": "markdown",
      "source": [
        "Calculates Grover's angles for a given set of probabilities.\n",
        "\n",
        "**Args:**\n",
        "- `p_i_set` (list or array-like): A list of probabilities corresponding to quantum states.\n",
        "- `m` (int): The number of qubits used in the quantum circuit.\n",
        "\n",
        "**Returns:**\n",
        "- `list`: A list of rotation angles required for Grover's state preparation.\n",
        "\n",
        "**Raises:**\n",
        "- `ValueError`: If the computed number of angles does not match the required length for `m` qubits."
      ],
      "metadata": {
        "id": "0Xatl6tqJix7"
      }
    },
    {
      "cell_type": "code",
      "source": [
        "from utilities.grover_state_preparation import  get_grover_angles\n",
        "\n",
        "p_i_set = [0.25, 0.25, 0.25, 0.25]\n",
        "m = 2\n",
        "thetas = get_grover_angles(p_i_set, m)\n",
        "print(thetas)"
      ],
      "metadata": {
        "id": "M8b1cptRIa16",
        "colab": {
          "base_uri": "https://localhost:8080/"
        },
        "outputId": "29f0e6ac-61f1-4660-da84-2ac1ee4f53f0"
      },
      "execution_count": 6,
      "outputs": [
        {
          "output_type": "stream",
          "name": "stdout",
          "text": [
            "[1.5707963267948966, 1.5707963267948966, 1.5707963267948966]\n"
          ]
        }
      ]
    },
    {
      "cell_type": "markdown",
      "source": [
        "### `state_expansion(m, thetas)`"
      ],
      "metadata": {
        "id": "Znc4ukHCIlZF"
      }
    },
    {
      "cell_type": "markdown",
      "source": [
        "Constructs a quantum circuit that applies rotations based on the calculated angles.\n",
        "\n",
        "**Args:**\n",
        "- `m` (int): The number of qubits in the circuit.\n",
        "- `thetas` (list): A list of rotation angles computed for Grover's algorithm.\n",
        "\n",
        "**Returns:**\n",
        "- `QuantumCircuit`: A quantum circuit implementing the state preparation.\n",
        "\n",
        "**Raises:**\n",
        "- `ValueError`: If the number of angles does not match the required `2^m - 1`."
      ],
      "metadata": {
        "id": "q7rYIkRuJl3B"
      }
    },
    {
      "cell_type": "code",
      "source": [
        "from utilities.grover_state_preparation import state_expansion\n",
        "\n",
        "m = 2\n",
        "thetas = [0.1, 0.2, 0.3]\n",
        "qc = state_expansion(m, thetas)\n",
        "print(qc)"
      ],
      "metadata": {
        "id": "wEpud4xSIl1w",
        "colab": {
          "base_uri": "https://localhost:8080/"
        },
        "outputId": "0670c5c2-b3cb-4ecf-ab0a-4778de070ccd"
      },
      "execution_count": 7,
      "outputs": [
        {
          "output_type": "stream",
          "name": "stdout",
          "text": [
            "     ┌─────────┐┌───┐           ┌───┐           ┌─┐   \n",
            "q_0: ┤ Ry(0.1) ├┤ X ├─────■─────┤ X ├─────■─────┤M├───\n",
            "     └─────────┘└───┘┌────┴────┐└───┘┌────┴────┐└╥┘┌─┐\n",
            "q_1: ────────────────┤ Ry(0.2) ├─────┤ Ry(0.3) ├─╫─┤M├\n",
            "                     └─────────┘     └─────────┘ ║ └╥┘\n",
            "c: 2/════════════════════════════════════════════╩══╩═\n",
            "                                                 1  0 \n"
          ]
        }
      ]
    },
    {
      "cell_type": "markdown",
      "source": [
        "## kernels"
      ],
      "metadata": {
        "id": "qJORuXwTGWV6"
      }
    },
    {
      "cell_type": "markdown",
      "source": [
        "### `mix_rbf_kernel(x, y, sigma_list)`"
      ],
      "metadata": {
        "id": "c6e4BX6_IvbR"
      }
    },
    {
      "cell_type": "markdown",
      "source": [
        "Computes a mixture of RBF kernels between two datasets.\n",
        "\n",
        "**Args:**\n",
        "- `x` (numpy.ndarray): Dataset `x`, shape `(n_samples_x, n_features)`.\n",
        "- `y` (numpy.ndarray): Dataset `y`, shape `(n_samples_y, n_features)`.\n",
        "- `sigma_list` (list or np.ndarray): List of sigma values for the RBF kernels.\n",
        "\n",
        "**Returns:**\n",
        "- `numpy.ndarray`: The kernel matrix computed between `x` and `y`.\n",
        "\n",
        "**Raises:**\n",
        "- `ValueError`: If any sigma values are non-positive."
      ],
      "metadata": {
        "id": "ilxtB5SGJb6_"
      }
    },
    {
      "cell_type": "code",
      "source": [
        "from utilities.kernels import mix_rbf_kernel\n",
        "\n",
        "# Example 1: 1D Case\n",
        "x_1d = np.array([1, 2, 3])\n",
        "y_1d = np.array([2, 3, 4])\n",
        "sigma_list = [0.5, 1.0, 2.0]\n",
        "\n",
        "kernel_matrix_1d = mix_rbf_kernel(x_1d, y_1d, sigma_list)\n",
        "print(\"Kernel Matrix (1D case):\\n\", kernel_matrix_1d)\n",
        "\n",
        "# Example 2: 2D Case\n",
        "x_2d = np.array([[1, 2], [2, 3], [3, 4]])\n",
        "y_2d = np.array([[2, 3], [3, 4], [4, 5]])\n",
        "kernel_matrix_2d = mix_rbf_kernel(x_2d, y_2d, sigma_list)\n",
        "print(\"\\nKernel Matrix (2D case):\\n\", kernel_matrix_2d)"
      ],
      "metadata": {
        "id": "VmnAUpvuIyUW",
        "colab": {
          "base_uri": "https://localhost:8080/"
        },
        "outputId": "724199a8-42a2-4f27-ceb6-d2fbc8b98cbf"
      },
      "execution_count": 8,
      "outputs": [
        {
          "output_type": "stream",
          "name": "stdout",
          "text": [
            "Kernel Matrix (1D case):\n",
            " [[1.75321088 0.52153036 0.11663163]\n",
            " [3.         1.75321088 0.52153036]\n",
            " [1.75321088 3.         1.75321088]]\n",
            "\n",
            "Kernel Matrix (2D case):\n",
            " [[1.10974538 0.15398638 0.01123242]\n",
            " [3.         1.10974538 0.15398638]\n",
            " [1.10974538 3.         1.10974538]]\n"
          ]
        }
      ]
    },
    {
      "cell_type": "markdown",
      "source": [
        "### `RBFMMD2`\n"
      ],
      "metadata": {
        "id": "qplSbGFkIyvK"
      }
    },
    {
      "cell_type": "markdown",
      "source": [
        "Computes the squared Maximum Mean Discrepancy (MMD) using an RBF kernel.\n",
        "\n",
        "**Methods**\n",
        "- `__init__(sigma_list)`\n",
        "Initializes the RBFMMD2 object with a list of sigma values.\n",
        "- `compute(x, y)`\n",
        "Computes the squared MMD between two datasets."
      ],
      "metadata": {
        "id": "8JeTyOwAJeke"
      }
    },
    {
      "cell_type": "code",
      "source": [
        "from utilities.kernels import mix_rbf_kernel, RBFMMD2\n",
        "\n",
        "sigma_list = [0.5, 1.0, 2.0]\n",
        "basis = np.linspace(0, 1, 10)\n",
        "mmd = RBFMMD2(sigma_list, basis)\n",
        "px = np.array([0.1, 0.15, 0.05, 0.2, 0.1, 0.05, 0.1, 0.1, 0.1, 0.05])\n",
        "py = np.array([0.05, 0.1, 0.1, 0.15, 0.2, 0.05, 0.1, 0.05, 0.15, 0.05])\n",
        "mmd_loss = mmd(px, py)\n",
        "print(\"MMD^2 Loss:\", mmd_loss)"
      ],
      "metadata": {
        "colab": {
          "base_uri": "https://localhost:8080/"
        },
        "id": "Jd3GXHmpArne",
        "outputId": "2833d8b3-2b1c-4071-dfdb-0eb988fbbf50"
      },
      "execution_count": 9,
      "outputs": [
        {
          "output_type": "stream",
          "name": "stdout",
          "text": [
            "MMD^2 Loss: 0.004228112853614\n"
          ]
        }
      ]
    },
    {
      "cell_type": "markdown",
      "source": [
        "## qcbm"
      ],
      "metadata": {
        "id": "A64rWKf2GT2B"
      }
    },
    {
      "cell_type": "markdown",
      "source": [
        "### `ArbitraryRotation`"
      ],
      "metadata": {
        "id": "KVbzFbMuKaZ9"
      }
    },
    {
      "cell_type": "markdown",
      "source": [
        "Represents a quantum gate that applies arbitrary rotations to qubits in the quantum circuit. It can apply three rotations per qubit, represented by a list of rotation angles.\n",
        "\n",
        "**Methods**\n",
        "- `__init__(self, num_bit)`: Initializes the ArbitraryRotation instance with the specified number of qubits.\n",
        "- `num_param`: Property that returns the number of parameters for the rotations (3 parameters per qubit).\n",
        "- `toscr(self, theta_list)`: Transforms this block into a sequence of sparse CSR matrices based on the provided list of rotation angles."
      ],
      "metadata": {
        "id": "nLGJjPfXKcVh"
      }
    },
    {
      "cell_type": "code",
      "source": [
        "from utilities.qcbm import ArbitraryRotation\n",
        "\n",
        "num_bit = 2\n",
        "rotation_gate = ArbitraryRotation(num_bit)\n",
        "print(f\"Number of parameters in ArbitraryRotation: {rotation_gate.num_param}\")\n",
        "theta_list = np.random.rand(6)\n",
        "csr_matrices = rotation_gate.tocsr(theta_list)\n",
        "for i, mat in enumerate(csr_matrices):\n",
        "    print(f\"CSR matrix {i} for rotation:\")\n",
        "    print(mat.toarray())"
      ],
      "metadata": {
        "colab": {
          "base_uri": "https://localhost:8080/"
        },
        "id": "S-iVPYrC2mVv",
        "outputId": "aca13e3c-665a-4a4b-df5c-1c9a429e5af9"
      },
      "execution_count": 10,
      "outputs": [
        {
          "output_type": "stream",
          "name": "stdout",
          "text": [
            "Number of parameters in ArbitraryRotation: 6\n",
            "CSR matrix 0 for rotation:\n",
            "[[ 0.87894837-0.17658582j -0.04055818-0.4411601j   0.        +0.j\n",
            "   0.        +0.j        ]\n",
            " [ 0.04055818-0.4411601j   0.87894837+0.17658582j  0.        +0.j\n",
            "   0.        +0.j        ]\n",
            " [ 0.        +0.j          0.        +0.j          0.87894837-0.17658582j\n",
            "  -0.04055818-0.4411601j ]\n",
            " [ 0.        +0.j          0.        +0.j          0.04055818-0.4411601j\n",
            "   0.87894837+0.17658582j]]\n",
            "CSR matrix 1 for rotation:\n",
            "[[ 0.86488385-0.46949862j  0.        +0.j          0.02579193-0.17573206j\n",
            "   0.        +0.j        ]\n",
            " [ 0.        +0.j          0.86488385-0.46949862j  0.        +0.j\n",
            "   0.02579193-0.17573206j]\n",
            " [-0.02579193-0.17573206j  0.        +0.j          0.86488385+0.46949862j\n",
            "   0.        +0.j        ]\n",
            " [ 0.        +0.j         -0.02579193-0.17573206j  0.        +0.j\n",
            "   0.86488385+0.46949862j]]\n"
          ]
        }
      ]
    },
    {
      "cell_type": "markdown",
      "source": [
        "### `CNOTEntangler`"
      ],
      "metadata": {
        "id": "vMmCRaAYKAfc"
      }
    },
    {
      "cell_type": "markdown",
      "source": [
        "Applies a series of CNOT gates that entangle pairs of qubits. The entanglement is formed by applying a CNOT gate for each pair in the provided list.\n",
        "\n",
        "**Methods**\n",
        "- `__init__(self, num_bit, pairs)`: Initializes the CNOTEntangler instance with the number of qubits and the pairs for entangling.\n",
        "  \n",
        "- `num_param`: Property that returns the number of parameters (CNOT gates do not have parameters).\n",
        "\n",
        "- `toscr(self, theta_list)`: Transforms this block into a sequence of sparse CSR matrices by applying CNOT gates to the specified qubit pairs."
      ],
      "metadata": {
        "id": "PN1nFCq6Kees"
      }
    },
    {
      "cell_type": "code",
      "source": [
        "from utilities.qcbm import CNOTEntangler\n",
        "\n",
        "num_bit = 2\n",
        "pairs = [(0, 1)]\n",
        "cnot_entangler = CNOTEntangler(num_bit, pairs)\n",
        "print(f\"Number of parameters in CNOTEntangler: {cnot_entangler.num_param}\")\n",
        "theta_list = np.array([])\n",
        "csr_matrices = cnot_entangler.tocsr(theta_list)\n",
        "print(\"CNOTEntangler CSR matrix:\")\n",
        "print(csr_matrices[0].toarray())\n"
      ],
      "metadata": {
        "colab": {
          "base_uri": "https://localhost:8080/"
        },
        "id": "iuK9woOo6jtP",
        "outputId": "55d104cd-7489-4ce9-e95d-18630aeb7dc8"
      },
      "execution_count": 11,
      "outputs": [
        {
          "output_type": "stream",
          "name": "stdout",
          "text": [
            "Number of parameters in CNOTEntangler: 0\n",
            "CNOTEntangler CSR matrix:\n",
            "[[1.+0.j 0.+0.j 0.+0.j 0.+0.j]\n",
            " [0.+0.j 0.+0.j 0.+0.j 1.+0.j]\n",
            " [0.+0.j 0.+0.j 1.+0.j 0.+0.j]\n",
            " [0.+0.j 1.+0.j 0.+0.j 0.+0.j]]\n"
          ]
        }
      ]
    },
    {
      "cell_type": "markdown",
      "source": [
        "### `BlockQueue`\n"
      ],
      "metadata": {
        "id": "K2G1V2ZRKJxb"
      }
    },
    {
      "cell_type": "markdown",
      "source": [
        "Keeps track of the quantum circuit's evolution by managing blocks of operations and applying them to a quantum register while efficiently tracking the parameter changes.\n",
        "\n",
        "**Methods**\n",
        "\n",
        "- `__init__(self, *args)`: Initializes a BlockQueue instance with a sequence of quantum operations (blocks).\n",
        "  \n",
        "- `__call__(self, qureg, theta_list)`: Applies operations to the quantum register in place using the provided list of parameters.\n",
        "\n",
        "- `num_bit`: Property that returns the number of qubits in the quantum circuit.\n",
        "\n",
        "- `num_param`: Property that returns the total number of parameters across all blocks."
      ],
      "metadata": {
        "id": "DqQwJXtWKiU1"
      }
    },
    {
      "cell_type": "code",
      "source": [
        "from utilities.qcbm import BlockQueue\n",
        "\n",
        "num_bit = 2\n",
        "pairs = [(0, 1)]\n",
        "blocks = [ArbitraryRotation(num_bit), CNOTEntangler(num_bit, pairs)]\n",
        "block_queue = BlockQueue(blocks)\n",
        "print(f\"Number of qubits: {block_queue.num_bit}\")\n",
        "print(f\"Total number of parameters in BlockQueue: {block_queue.num_param}\")\n",
        "qureg = np.zeros(2**num_bit, dtype='complex128')\n",
        "qureg[0] = 1.0\n",
        "theta_list = np.random.rand(block_queue.num_param)\n",
        "block_queue(qureg, theta_list)\n",
        "print(\"Updated quantum register (wavefunction):\")\n",
        "print(qureg)"
      ],
      "metadata": {
        "colab": {
          "base_uri": "https://localhost:8080/"
        },
        "id": "Vq88eedM7qtC",
        "outputId": "2fa368b9-e0af-460d-ef8a-230145bdc03c"
      },
      "execution_count": 12,
      "outputs": [
        {
          "output_type": "stream",
          "name": "stdout",
          "text": [
            "Number of qubits: 2\n",
            "Total number of parameters in BlockQueue: 6\n",
            "Updated quantum register (wavefunction):\n",
            "[ 0.68844256-7.03452411e-01j -0.00123877+1.71170979e-04j\n",
            " -0.00422248-5.55029898e-03j -0.04930742-1.69470140e-01j]\n"
          ]
        }
      ]
    },
    {
      "cell_type": "markdown",
      "source": [
        "### `QCBM`\n"
      ],
      "metadata": {
        "id": "ewJJbK3JKNEj"
      }
    },
    {
      "cell_type": "markdown",
      "source": [
        "The Quantum Circuit Born Machine framework that learns to approximate probability distributions using quantum circuits. The model uses rotation gates and CNOT entanglers, and the optimization is performed using the MMD loss function.\n",
        "\n",
        "**Methods**\n",
        "- `__init__(self, circuit, mmd, p_data, batch_size=None)`: Initializes the QCBM instance with the specified quantum circuit, MMD metric, target probability distribution, and batch size (optional).\n",
        "\n",
        "- `depth`: Property that returns the depth of the circuit, defined by the number of entanglers.\n",
        "\n",
        "- `pdf(self, theta_list)`: Gets the probability distribution function by applying the quantum circuit to the quantum state.\n",
        "\n",
        "- `mmd_loss(self, theta_list)`: Computes the MMD loss for the given parameters.\n",
        "\n",
        "- `gradient(self, theta_list)`: Computes the gradient of the MMD loss with respect to the parameters using numerical gradient computation."
      ],
      "metadata": {
        "id": "qlmEpvLwKm8K"
      }
    },
    {
      "cell_type": "code",
      "source": [
        "from utilities.qcbm import ArbitraryRotation, CNOTEntangler, BlockQueue, QCBM\n",
        "\n",
        "def dummy_mmd(prob1, prob2):\n",
        "    return np.mean((prob1 - prob2) ** 2)\n",
        "\n",
        "blocks = [ArbitraryRotation(num_bit), CNOTEntangler(num_bit, pairs)]\n",
        "block_queue = BlockQueue(blocks)\n",
        "p_data = np.random.rand(2**num_bit)\n",
        "p_data /= p_data.sum()\n",
        "qcbm = QCBM(circuit=block_queue, mmd=dummy_mmd, p_data=p_data)\n",
        "theta_list = np.random.rand(block_queue.num_param)\n",
        "prob_distribution = qcbm.pdf(theta_list)\n",
        "print(\"Computed probability distribution:\")\n",
        "print(prob_distribution)"
      ],
      "metadata": {
        "colab": {
          "base_uri": "https://localhost:8080/"
        },
        "id": "_Xstib7L73mh",
        "outputId": "d2633791-42f5-4425-f817-6f9a78d96d41"
      },
      "execution_count": 13,
      "outputs": [
        {
          "output_type": "stream",
          "name": "stdout",
          "text": [
            "Computed probability distribution:\n",
            "[9.14903404e-01 2.62671287e-11 2.82407129e-10 8.50965961e-02]\n"
          ]
        }
      ]
    },
    {
      "cell_type": "markdown",
      "source": [
        "## quantum_gates\n"
      ],
      "metadata": {
        "id": "X5_tb7hTGMxh"
      }
    },
    {
      "cell_type": "markdown",
      "source": [
        "### `_ri(si, theta)`"
      ],
      "metadata": {
        "id": "Ni5I9-b3oPID"
      }
    },
    {
      "cell_type": "markdown",
      "source": [
        "Generates a single qubit rotation operator for a given angle.\n",
        "\n",
        "**Args**\n",
        "- `si` (scipy.sparse.csr_matrix): Pauli matrix (X, Y, or Z).\n",
        "- `theta` (float): Rotation angle.\n",
        "\n",
        "**Returns**\n",
        "- `scipy.sparse.csr_matrix`: The single qubit rotation matrix."
      ],
      "metadata": {
        "id": "v5YtiVlAoWub"
      }
    },
    {
      "cell_type": "code",
      "source": [
        "from utilities.quantum_gates import _ri, sz\n",
        "\n",
        "theta = np.pi / 4\n",
        "rotation_sz = _ri(sz, theta)\n",
        "print(rotation_sz.todense())"
      ],
      "metadata": {
        "colab": {
          "base_uri": "https://localhost:8080/"
        },
        "id": "gQodVQ5Y0R2c",
        "outputId": "06ebbe39-5d7d-40a2-8aa8-eda96b494400"
      },
      "execution_count": 14,
      "outputs": [
        {
          "output_type": "stream",
          "name": "stdout",
          "text": [
            "[[0.92387953-0.38268343j 0.        +0.j        ]\n",
            " [0.        +0.j         0.92387953+0.38268343j]]\n"
          ]
        }
      ]
    },
    {
      "cell_type": "markdown",
      "source": [
        "### `rot(t1, t2, t3)`"
      ],
      "metadata": {
        "id": "-uSI-uytov0V"
      }
    },
    {
      "cell_type": "markdown",
      "source": [
        "Generates a general rotation gate `rz(t3)rx(t2)rz(t1)`.\n",
        "\n",
        "**Args**\n",
        "- `t1` (float): Angle for the first rz rotation.\n",
        "- `t2` (float): Angle for the rx rotation.\n",
        "- `t3` (float): Angle for the second rz rotation.\n",
        "\n",
        "**Returns**\n",
        "- `scipy.sparse.csr_matrix`: The combined rotation gate."
      ],
      "metadata": {
        "id": "3UtEaJvSo0Bl"
      }
    },
    {
      "cell_type": "code",
      "source": [
        "from utilities.quantum_gates import rot\n",
        "\n",
        "t1, t2, t3 = np.pi/4, np.pi/4, np.pi/4\n",
        "full_rotation = rot(t1, t2, t3)\n",
        "print(full_rotation.todense())"
      ],
      "metadata": {
        "colab": {
          "base_uri": "https://localhost:8080/"
        },
        "id": "NlTDreXP0mMS",
        "outputId": "96b3c311-998b-48ed-c7f4-ae23f8473dda"
      },
      "execution_count": 15,
      "outputs": [
        {
          "output_type": "stream",
          "name": "stdout",
          "text": [
            "[[0.65328148-0.65328148j 0.        -0.38268343j]\n",
            " [0.        -0.38268343j 0.65328148+0.65328148j]]\n"
          ]
        }
      ]
    },
    {
      "cell_type": "markdown",
      "source": [
        "###  `_rot_tocsr_update1(layer, old, theta_old, theta_new)`"
      ],
      "metadata": {
        "id": "xIuDFKH6qbOX"
      }
    },
    {
      "cell_type": "markdown",
      "source": [
        "rotation layer csr_matrices update method.\n",
        "\n",
        "**Args**\n",
        "- `layer` (ArbitraryRotation): rotation layer.\n",
        "- `old` (csr_matrix): old matrices.\n",
        "- `theta_old` (1darray): old parameters.\n",
        "- `theta_new` (1darray): new parameters.\n",
        "\n",
        "**Returns**\n",
        "- `list of csr_matrix`: new rotation matrices after the theta changed."
      ],
      "metadata": {
        "id": "b47eyLWRqctm"
      }
    },
    {
      "cell_type": "code",
      "source": [],
      "metadata": {
        "id": "uXuMo9wequ2R"
      },
      "execution_count": 15,
      "outputs": []
    },
    {
      "cell_type": "markdown",
      "source": [
        "### `CNOT(ibit, jbit, n)`"
      ],
      "metadata": {
        "id": "0d5qZH5fqyeL"
      }
    },
    {
      "cell_type": "markdown",
      "source": [
        " Generates a CNOT (Controlled-NOT) gate for the specified qubit positions.\n",
        "\n",
        "**Args**\n",
        "- `ibit` (int): The control qubit position.\n",
        "- `jbit` (int): The target qubit position.\n",
        "`n` (int): Total number of qubits in the system.\n",
        "\n",
        "**Returns**\n",
        "- `scipy.sparse.csr_matrix`: The CNOT gate as a sparse matrix."
      ],
      "metadata": {
        "id": "8L4_IUF9qvaa"
      }
    },
    {
      "cell_type": "code",
      "source": [
        "from utilities.quantum_gates import CNOT\n",
        "\n",
        "ibit = 0\n",
        "jbit = 1\n",
        "n = 2\n",
        "cnot_result = CNOT(ibit, jbit, n)\n",
        "print(cnot_result.todense())"
      ],
      "metadata": {
        "colab": {
          "base_uri": "https://localhost:8080/"
        },
        "id": "rO2K9DXN0xGJ",
        "outputId": "98f08301-0509-45c8-80b8-4ff5eb49a92c"
      },
      "execution_count": 16,
      "outputs": [
        {
          "output_type": "stream",
          "name": "stdout",
          "text": [
            "[[1.+0.j 0.+0.j 0.+0.j 0.+0.j]\n",
            " [0.+0.j 0.+0.j 0.+0.j 1.+0.j]\n",
            " [0.+0.j 0.+0.j 1.+0.j 0.+0.j]\n",
            " [0.+0.j 1.+0.j 0.+0.j 0.+0.j]]\n"
          ]
        }
      ]
    },
    {
      "cell_type": "markdown",
      "source": [
        "## sampling"
      ],
      "metadata": {
        "id": "UZ7lHTk1GYLK"
      }
    },
    {
      "cell_type": "markdown",
      "source": [
        "### `sample_from_prob`"
      ],
      "metadata": {
        "id": "gZCRVxKQLBNi"
      }
    },
    {
      "cell_type": "markdown",
      "source": [
        "Samples `num_sample` elements from the dataset `x` based on the given probability distribution `pl`. The probabilities are normalized to ensure they sum to 1 before sampling. It returns the sampled elements from `x`.\n",
        "\n",
        "**Args**\n",
        "- `x` (numpy.ndarray): Dataset `x` from which to sample, shape `(n_samples, n_features)`.\n",
        "- `pl` (numpy.ndarray): Probability distribution over the dataset `x`, shape `(n_samples,)`.\n",
        "- `num_sample` (int): The number of samples to draw.\n",
        "\n",
        "**Returns**\n",
        "- `numpy.ndarray`: The sampled elements from `x`, shape `(num_sample, n_features)`."
      ],
      "metadata": {
        "id": "hjFjejhILPAF"
      }
    },
    {
      "cell_type": "code",
      "source": [
        "from utilities.sampling import sample_from_prob\n",
        "\n",
        "x = np.array([[1], [2], [3], [4], [5]])\n",
        "pl = np.array([0.1, 0.2, 0.3, 0.2, 0.2])\n",
        "num_sample = 3\n",
        "samples = sample_from_prob(x, pl, num_sample)\n",
        "print(f\"Sampled data points (Test Case 1): {samples}\")"
      ],
      "metadata": {
        "colab": {
          "base_uri": "https://localhost:8080/"
        },
        "id": "U4q7fvZACcQJ",
        "outputId": "a359f8b0-bd66-4122-f525-d70983cf7505"
      },
      "execution_count": 17,
      "outputs": [
        {
          "output_type": "stream",
          "name": "stdout",
          "text": [
            "Sampled data points (Test Case 1): [[4]\n",
            " [3]\n",
            " [5]]\n"
          ]
        }
      ]
    },
    {
      "cell_type": "markdown",
      "source": [
        "### `prob_from_sample`"
      ],
      "metadata": {
        "id": "mGt7iz0YLIdT"
      }
    },
    {
      "cell_type": "markdown",
      "source": [
        "Computes the empirical probability distribution from a dataset. It counts the occurrences of each element in the dataset and normalizes the counts to produce a probability distribution.\n",
        "\n",
        "**Args**\n",
        "- `dataset` (numpy.ndarray): The dataset to compute the probability distribution from.\n",
        "- `hndim` (int): The number of possible distinct outcomes in the dataset.\n",
        "\n",
        "**Returns**\n",
        "- `numpy.ndarray`: The empirical probability distribution, shape `(hndim,)`."
      ],
      "metadata": {
        "id": "b_OeVWrkLRQQ"
      }
    },
    {
      "cell_type": "code",
      "source": [
        "from utilities.sampling import prob_from_sample\n",
        "\n",
        "dataset = np.array([0, 1, 2, 1, 3, 0, 0, 1, 3, 2])\n",
        "hndim = 4\n",
        "empirical_prob = prob_from_sample(dataset, hndim)\n",
        "print(f\"Empirical probability distribution (Test Case 3): {empirical_prob}\")"
      ],
      "metadata": {
        "colab": {
          "base_uri": "https://localhost:8080/"
        },
        "id": "3frgAbYACpO-",
        "outputId": "f3d7eaac-2470-4e95-a198-deda84bb6efa"
      },
      "execution_count": 18,
      "outputs": [
        {
          "output_type": "stream",
          "name": "stdout",
          "text": [
            "Empirical probability distribution (Test Case 3): [0.3 0.3 0.2 0.2]\n"
          ]
        }
      ]
    }
  ]
}