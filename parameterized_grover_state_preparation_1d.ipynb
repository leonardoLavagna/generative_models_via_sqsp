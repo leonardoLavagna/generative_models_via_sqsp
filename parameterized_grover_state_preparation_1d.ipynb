{
  "nbformat": 4,
  "nbformat_minor": 0,
  "metadata": {
    "colab": {
      "provenance": []
    },
    "kernelspec": {
      "name": "python3",
      "display_name": "Python 3"
    },
    "language_info": {
      "name": "python"
    }
  },
  "cells": [
    {
      "cell_type": "markdown",
      "source": [
        "#notebooks.parameterized_grover_state_preparation_1d"
      ],
      "metadata": {
        "id": "6ZUPgiaLfY1l"
      }
    },
    {
      "cell_type": "markdown",
      "source": [
        "## Setup"
      ],
      "metadata": {
        "id": "FbroQvshfi1g"
      }
    },
    {
      "cell_type": "code",
      "execution_count": 69,
      "metadata": {
        "colab": {
          "base_uri": "https://localhost:8080/"
        },
        "collapsed": true,
        "id": "vx-jTbnVfN88",
        "outputId": "6f30517c-3aa9-4953-8e1d-ed2a4a65ee4e"
      },
      "outputs": [
        {
          "output_type": "stream",
          "name": "stdout",
          "text": [
            "Requirement already satisfied: qiskit in /usr/local/lib/python3.11/dist-packages (1.3.2)\n",
            "Requirement already satisfied: qiskit_aer in /usr/local/lib/python3.11/dist-packages (0.16.1)\n",
            "Requirement already satisfied: rustworkx>=0.15.0 in /usr/local/lib/python3.11/dist-packages (from qiskit) (0.16.0)\n",
            "Requirement already satisfied: numpy<3,>=1.17 in /usr/local/lib/python3.11/dist-packages (from qiskit) (1.26.4)\n",
            "Requirement already satisfied: scipy>=1.5 in /usr/local/lib/python3.11/dist-packages (from qiskit) (1.13.1)\n",
            "Requirement already satisfied: sympy>=1.3 in /usr/local/lib/python3.11/dist-packages (from qiskit) (1.13.1)\n",
            "Requirement already satisfied: dill>=0.3 in /usr/local/lib/python3.11/dist-packages (from qiskit) (0.3.9)\n",
            "Requirement already satisfied: python-dateutil>=2.8.0 in /usr/local/lib/python3.11/dist-packages (from qiskit) (2.8.2)\n",
            "Requirement already satisfied: stevedore>=3.0.0 in /usr/local/lib/python3.11/dist-packages (from qiskit) (5.4.0)\n",
            "Requirement already satisfied: typing-extensions in /usr/local/lib/python3.11/dist-packages (from qiskit) (4.12.2)\n",
            "Requirement already satisfied: symengine<0.14,>=0.11 in /usr/local/lib/python3.11/dist-packages (from qiskit) (0.13.0)\n",
            "Requirement already satisfied: psutil>=5 in /usr/local/lib/python3.11/dist-packages (from qiskit_aer) (5.9.5)\n",
            "Requirement already satisfied: six>=1.5 in /usr/local/lib/python3.11/dist-packages (from python-dateutil>=2.8.0->qiskit) (1.17.0)\n",
            "Requirement already satisfied: pbr>=2.0.0 in /usr/local/lib/python3.11/dist-packages (from stevedore>=3.0.0->qiskit) (6.1.1)\n",
            "Requirement already satisfied: mpmath<1.4,>=1.1.0 in /usr/local/lib/python3.11/dist-packages (from sympy>=1.3->qiskit) (1.3.0)\n",
            "Requirement already satisfied: setuptools in /usr/local/lib/python3.11/dist-packages (from pbr>=2.0.0->stevedore>=3.0.0->qiskit) (75.1.0)\n"
          ]
        }
      ],
      "source": [
        "!pip install qiskit qiskit_aer"
      ]
    },
    {
      "cell_type": "code",
      "source": [
        "from qiskit_aer import Aer\n",
        "from qiskit.circuit.library import RYGate\n",
        "from qiskit import QuantumCircuit, QuantumRegister, transpile"
      ],
      "metadata": {
        "id": "vWk5eYkXfpqN"
      },
      "execution_count": 70,
      "outputs": []
    },
    {
      "cell_type": "code",
      "source": [
        "import numpy as np\n",
        "from itertools import product\n",
        "from scipy.stats import beta, chisquare, entropy, wasserstein_distance\n",
        "import matplotlib.pyplot as plt"
      ],
      "metadata": {
        "id": "cGdflK6sf9yf"
      },
      "execution_count": 71,
      "outputs": []
    },
    {
      "cell_type": "code",
      "source": [
        "backend = Aer.get_backend(\"aer_simulator\")"
      ],
      "metadata": {
        "id": "BsG-pQweiZFv"
      },
      "execution_count": 72,
      "outputs": []
    },
    {
      "cell_type": "markdown",
      "source": [
        "## Utilities"
      ],
      "metadata": {
        "id": "yM__kuw-fk3R"
      }
    },
    {
      "cell_type": "code",
      "source": [
        "def get_grover_angles(p_i_set, m):\n",
        "    \"\"\"Calculates Grover's angles for a given set of probabilities.\n",
        "\n",
        "    Args:\n",
        "        p_i_set (list or array-like): A list of probabilities corresponding to quantum states.\n",
        "        m (int): The number of qubits used in the quantum circuit.\n",
        "\n",
        "    Returns:\n",
        "        list: A list of rotation angles required for Grover's state preparation.\n",
        "\n",
        "    Raises:\n",
        "        ValueError: If the computed number of angles does not match the required length for m qubits.\n",
        "    \"\"\"\n",
        "    thetas = []\n",
        "    p_i_set = list(p_i_set)\n",
        "    for j in range(m):\n",
        "        while len(p_i_set) % 2**(j + 1) != 0:\n",
        "            p_i_set.append(0)\n",
        "        current_p = np.array(np.array_split(p_i_set, 2**(j + 1))).sum(axis=1)\n",
        "        if j > 0:\n",
        "            for i in range(len(previous_p)):\n",
        "                if previous_p[i] == 0:\n",
        "                    previous_p[i] = 1e-5\n",
        "                theta = 2 * np.arccos(np.sqrt(current_p[i * 2] / previous_p[i]))\n",
        "                thetas.append(theta)\n",
        "        else:\n",
        "            theta = 2 * np.arccos(np.sqrt(current_p[0]))\n",
        "            thetas.append(theta)\n",
        "        previous_p = current_p\n",
        "    required_length = 2**m - 1\n",
        "    if len(thetas) != required_length:\n",
        "        raise ValueError(f\"The number of angles in 'thetas' must be {required_length} for {m} qubits.\")\n",
        "    return thetas\n",
        "\n",
        "# Test\n",
        "#m = 2\n",
        "#n = 2**m\n",
        "#num_bins = m +1\n",
        "#p_i_set = [0.25]*n\n",
        "#angles = get_grover_angles(p_i_set, m)\n",
        "#print(f\"Angles: {angles} \\nDimensionality check: {len(angles)==num_bins}\")"
      ],
      "metadata": {
        "id": "VsntjCNGfmFw"
      },
      "execution_count": 73,
      "outputs": []
    },
    {
      "cell_type": "code",
      "source": [
        "def state_expansion(m, thetas):\n",
        "    \"\"\"Constructs a quantum circuit that applies rotations based on the calculated angles.\n",
        "\n",
        "    Args:\n",
        "        m (int): The number of qubits in the circuit.\n",
        "        thetas (list): A list of rotation angles computed for Grover's algorithm.\n",
        "\n",
        "    Returns:\n",
        "        QuantumCircuit: A quantum circuit implementing the state preparation.\n",
        "\n",
        "    Raises:\n",
        "        ValueError: If the number of angles does not match the required 2^m - 1.\n",
        "\n",
        "    References:\n",
        "        - https://arxiv.org/pdf/quant-ph/0208112\n",
        "    \"\"\"\n",
        "    if len(thetas) != 2**m - 1:\n",
        "        raise ValueError(\"The number of angles in 'thetas' must be 2^m - 1 for m qubits.\")\n",
        "    qc = QuantumCircuit(m, m)\n",
        "    qc.ry(thetas[0], 0)\n",
        "    theta_index = 1\n",
        "    for qubit in range(1, m):\n",
        "        control_combinations = list(product([0, 1], repeat=qubit))\n",
        "        for combination in control_combinations:\n",
        "            for ctrl, state in enumerate(combination):\n",
        "                if state == 0:\n",
        "                    qc.x(ctrl)\n",
        "            qc.append(RYGate(thetas[theta_index]).control(len(combination)), list(range(qubit)) + [qubit])\n",
        "            theta_index += 1\n",
        "            for ctrl, state in enumerate(combination):\n",
        "                if state == 0:\n",
        "                    qc.x(ctrl)\n",
        "    qc.measure(range(m), range(m)[::-1])\n",
        "    return qc\n",
        "\n",
        "# Test\n",
        "#m = 2\n",
        "#n = 2**m\n",
        "#p_i_set = [0.25]*n\n",
        "#angles = get_grover_angles(p_i_set, m)\n",
        "#qc = state_expansion(m, angles)\n",
        "#qc.draw()"
      ],
      "metadata": {
        "id": "aiN5gfaLgjB8"
      },
      "execution_count": 74,
      "outputs": []
    },
    {
      "cell_type": "markdown",
      "source": [
        "## Applications"
      ],
      "metadata": {
        "id": "XWFE0_7siCyy"
      }
    },
    {
      "cell_type": "markdown",
      "source": [
        "### 1d (beta) distribution"
      ],
      "metadata": {
        "id": "iaDypDQ6iEui"
      }
    },
    {
      "cell_type": "code",
      "source": [
        "alpha = 2\n",
        "beta_ = 2\n",
        "m = 4\n",
        "a = 0\n",
        "b = 1\n",
        "N = 1024\n",
        "nu = 0.4"
      ],
      "metadata": {
        "id": "NK7PLMoEhibM"
      },
      "execution_count": 75,
      "outputs": []
    },
    {
      "cell_type": "code",
      "source": [
        "p_i_set = beta.pdf(np.linspace(a, b, 2**m-1), alpha, beta_)\n",
        "p_i_set /= p_i_set.sum()"
      ],
      "metadata": {
        "id": "Uh9CsRFyiM9n"
      },
      "execution_count": 76,
      "outputs": []
    },
    {
      "cell_type": "code",
      "source": [
        "thetas = get_grover_angles(p_i_set,m)\n",
        "qc = state_expansion(m,thetas)\n",
        "t_qc = transpile(qc, backend=backend)\n",
        "job = backend.run(t_qc, shots=N)\n",
        "counts = job.result().get_counts(qc)\n",
        "total_counts = sum(counts.values())\n",
        "samples = {key: value / total_counts for key, value in counts.items()}\n"
      ],
      "metadata": {
        "id": "tvtDIKHpiOgL"
      },
      "execution_count": 77,
      "outputs": []
    },
    {
      "cell_type": "code",
      "source": [
        "num_states = 2**m-1\n",
        "all_states = [format(i, f\"0{m}b\") for i in range(num_states)]\n",
        "samples_full = {state: samples.get(state, 0) for state in all_states}\n",
        "y = np.array([samples_full[state] for state in all_states])\n",
        "y /= y.sum()"
      ],
      "metadata": {
        "id": "m2BZkgP4lQP_"
      },
      "execution_count": 81,
      "outputs": []
    },
    {
      "cell_type": "code",
      "source": [
        "chi_stat, chi_p = chisquare(y, f_exp=p_i_set)\n",
        "kl_div = entropy(y, p_i_set)\n",
        "emd = wasserstein_distance(y, p_i_set)\n",
        "print(f\"Chi-Square Test: statistic={chi_stat}, p-value={chi_p}\")\n",
        "print(f\"KL Divergence: {kl_div}\")\n",
        "print(f\"Earth Mover's Distance: {emd}\")"
      ],
      "metadata": {
        "colab": {
          "base_uri": "https://localhost:8080/"
        },
        "id": "TKphm-yvla8h",
        "outputId": "48d1cff3-c462-4521-e27a-3276a9bc5ebb"
      },
      "execution_count": 82,
      "outputs": [
        {
          "output_type": "stream",
          "name": "stdout",
          "text": [
            "Chi-Square Test: statistic=nan, p-value=nan\n",
            "KL Divergence: 0.0017939373349941641\n",
            "Earth Mover's Distance: 0.002980196886446883\n"
          ]
        }
      ]
    },
    {
      "cell_type": "code",
      "source": [
        "# Visualization\n",
        "plt.figure(figsize=(8, 5))\n",
        "plt.bar(range(len(p_i_set)), p_i_set, alpha=0.6, label='Theoretical Beta Dist.', color='blue')\n",
        "plt.bar(range(len(y)), y, alpha=0.6, label='Quantum Samples', color='red')\n",
        "plt.xlabel(\"Bins\")\n",
        "plt.ylabel(\"Probability\")\n",
        "plt.legend()\n",
        "plt.title(\"Comparison of Quantum Samples and Beta Distribution\")\n",
        "plt.show()\n"
      ],
      "metadata": {
        "colab": {
          "base_uri": "https://localhost:8080/",
          "height": 487
        },
        "id": "5QPEeQwFkG5L",
        "outputId": "7b1316a6-d40f-4759-a518-38b803852620"
      },
      "execution_count": 83,
      "outputs": [
        {
          "output_type": "display_data",
          "data": {
            "text/plain": [
              "<Figure size 800x500 with 1 Axes>"
            ],
            "image/png": "[encoded data removed]"
          },
          "metadata": {}
        }
      ]
    },
    {
      "cell_type": "code",
      "source": [
        "#y = list(samples.values())\n",
        "#y /= np.array(y).sum()\n",
        "#x = range(len(samples))\n",
        "#plt.scatter(x, y)\n",
        "#plt.plot(p_i_set, color=\"red\")\n",
        "#plt.show()"
      ],
      "metadata": {
        "id": "frJjZp2XiP1R"
      },
      "execution_count": 80,
      "outputs": []
    }
  ]
}